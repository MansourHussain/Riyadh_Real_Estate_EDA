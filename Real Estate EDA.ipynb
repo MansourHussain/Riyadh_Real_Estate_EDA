{
 "cells": [
  {
   "cell_type": "markdown",
   "id": "63d7a8a3",
   "metadata": {},
   "source": [
    "# In this exploratory data analysis (EDA), we will analyze the data of more than 10,000 rows containing real estate ads data for the sale of villas 🏠 during the year 2021 in the city of Riyadh, Saudi Arabia\n",
    "\n",
    " \n",
    "\n",
    "\n",
    "\n",
    "\n",
    "## Mansour Hussain\n",
    "### `Linkedin` 🔗: [Mansour Hussain](https://www.linkedin.com/in/mansourhussain/)\n",
    "\n",
    "### `GitHub` 🔗: [Mansour Hussain](https://github.com/MansourHussain)\n",
    "\n",
    "### `Twitter` 🔗: [Mansour Hussain](https://twitter.com/Mansourhussain0)"
   ]
  },
  {
   "cell_type": "code",
   "execution_count": 1,
   "id": "12ac3be8",
   "metadata": {},
   "outputs": [],
   "source": [
    "# Import libraries\n",
    "\n",
    "import matplotlib\n",
    "import matplotlib.pyplot as plt\n",
    "import seaborn as sns \n",
    "import pandas as pd\n",
    "import numpy as np\n",
    "df = pd.read_csv('Aqar_Cleaned.csv', index_col=0)"
   ]
  },
  {
   "cell_type": "code",
   "execution_count": 2,
   "id": "7b5cf1d9",
   "metadata": {},
   "outputs": [
    {
     "data": {
      "text/html": [
       "<div>\n",
       "<style scoped>\n",
       "    .dataframe tbody tr th:only-of-type {\n",
       "        vertical-align: middle;\n",
       "    }\n",
       "\n",
       "    .dataframe tbody tr th {\n",
       "        vertical-align: top;\n",
       "    }\n",
       "\n",
       "    .dataframe thead th {\n",
       "        text-align: right;\n",
       "    }\n",
       "</style>\n",
       "<table border=\"1\" class=\"dataframe\">\n",
       "  <thead>\n",
       "    <tr style=\"text-align: right;\">\n",
       "      <th></th>\n",
       "      <th>district</th>\n",
       "      <th>home_size</th>\n",
       "      <th>home_price</th>\n",
       "    </tr>\n",
       "  </thead>\n",
       "  <tbody>\n",
       "    <tr>\n",
       "      <th>0</th>\n",
       "      <td>الرمال</td>\n",
       "      <td>300</td>\n",
       "      <td>1350000</td>\n",
       "    </tr>\n",
       "    <tr>\n",
       "      <th>1</th>\n",
       "      <td>الملقا</td>\n",
       "      <td>405</td>\n",
       "      <td>4500000</td>\n",
       "    </tr>\n",
       "    <tr>\n",
       "      <th>2</th>\n",
       "      <td>الياسمين</td>\n",
       "      <td>375</td>\n",
       "      <td>3700000</td>\n",
       "    </tr>\n",
       "    <tr>\n",
       "      <th>3</th>\n",
       "      <td>الفيحاء</td>\n",
       "      <td>700</td>\n",
       "      <td>2200000</td>\n",
       "    </tr>\n",
       "    <tr>\n",
       "      <th>4</th>\n",
       "      <td>عكاظ</td>\n",
       "      <td>350</td>\n",
       "      <td>980000</td>\n",
       "    </tr>\n",
       "  </tbody>\n",
       "</table>\n",
       "</div>"
      ],
      "text/plain": [
       "   district  home_size  home_price\n",
       "0    الرمال        300     1350000\n",
       "1    الملقا        405     4500000\n",
       "2  الياسمين        375     3700000\n",
       "3   الفيحاء        700     2200000\n",
       "4      عكاظ        350      980000"
      ]
     },
     "execution_count": 2,
     "metadata": {},
     "output_type": "execute_result"
    }
   ],
   "source": [
    "df.head()"
   ]
  },
  {
   "cell_type": "code",
   "execution_count": 3,
   "id": "8931d55b",
   "metadata": {
    "scrolled": true
   },
   "outputs": [
    {
     "data": {
      "text/plain": [
       "(10825, 3)"
      ]
     },
     "execution_count": 3,
     "metadata": {},
     "output_type": "execute_result"
    }
   ],
   "source": [
    "# show shape\n",
    "df.shape"
   ]
  },
  {
   "cell_type": "code",
   "execution_count": 4,
   "id": "4441ba42",
   "metadata": {
    "scrolled": false
   },
   "outputs": [
    {
     "name": "stdout",
     "output_type": "stream",
     "text": [
      "<class 'pandas.core.frame.DataFrame'>\n",
      "Int64Index: 10825 entries, 0 to 10841\n",
      "Data columns (total 3 columns):\n",
      " #   Column      Non-Null Count  Dtype \n",
      "---  ------      --------------  ----- \n",
      " 0   district    10825 non-null  object\n",
      " 1   home_size   10825 non-null  int64 \n",
      " 2   home_price  10825 non-null  int64 \n",
      "dtypes: int64(2), object(1)\n",
      "memory usage: 338.3+ KB\n"
     ]
    }
   ],
   "source": [
    "# show types of columns\n",
    "df.info()"
   ]
  },
  {
   "cell_type": "code",
   "execution_count": 5,
   "id": "1211d6d9",
   "metadata": {},
   "outputs": [
    {
     "data": {
      "text/html": [
       "<div>\n",
       "<style scoped>\n",
       "    .dataframe tbody tr th:only-of-type {\n",
       "        vertical-align: middle;\n",
       "    }\n",
       "\n",
       "    .dataframe tbody tr th {\n",
       "        vertical-align: top;\n",
       "    }\n",
       "\n",
       "    .dataframe thead th {\n",
       "        text-align: right;\n",
       "    }\n",
       "</style>\n",
       "<table border=\"1\" class=\"dataframe\">\n",
       "  <thead>\n",
       "    <tr style=\"text-align: right;\">\n",
       "      <th></th>\n",
       "      <th>home_size</th>\n",
       "      <th>home_price</th>\n",
       "    </tr>\n",
       "  </thead>\n",
       "  <tbody>\n",
       "    <tr>\n",
       "      <th>count</th>\n",
       "      <td>10825.000000</td>\n",
       "      <td>1.082500e+04</td>\n",
       "    </tr>\n",
       "    <tr>\n",
       "      <th>mean</th>\n",
       "      <td>385.952794</td>\n",
       "      <td>2.163715e+06</td>\n",
       "    </tr>\n",
       "    <tr>\n",
       "      <th>std</th>\n",
       "      <td>402.240331</td>\n",
       "      <td>3.321829e+06</td>\n",
       "    </tr>\n",
       "    <tr>\n",
       "      <th>min</th>\n",
       "      <td>103.000000</td>\n",
       "      <td>5.000000e+04</td>\n",
       "    </tr>\n",
       "    <tr>\n",
       "      <th>25%</th>\n",
       "      <td>256.000000</td>\n",
       "      <td>1.120000e+06</td>\n",
       "    </tr>\n",
       "    <tr>\n",
       "      <th>50%</th>\n",
       "      <td>300.000000</td>\n",
       "      <td>1.300000e+06</td>\n",
       "    </tr>\n",
       "    <tr>\n",
       "      <th>75%</th>\n",
       "      <td>375.000000</td>\n",
       "      <td>2.000000e+06</td>\n",
       "    </tr>\n",
       "    <tr>\n",
       "      <th>max</th>\n",
       "      <td>15000.000000</td>\n",
       "      <td>1.000000e+08</td>\n",
       "    </tr>\n",
       "  </tbody>\n",
       "</table>\n",
       "</div>"
      ],
      "text/plain": [
       "          home_size    home_price\n",
       "count  10825.000000  1.082500e+04\n",
       "mean     385.952794  2.163715e+06\n",
       "std      402.240331  3.321829e+06\n",
       "min      103.000000  5.000000e+04\n",
       "25%      256.000000  1.120000e+06\n",
       "50%      300.000000  1.300000e+06\n",
       "75%      375.000000  2.000000e+06\n",
       "max    15000.000000  1.000000e+08"
      ]
     },
     "execution_count": 5,
     "metadata": {},
     "output_type": "execute_result"
    }
   ],
   "source": [
    "df.describe()"
   ]
  },
  {
   "cell_type": "code",
   "execution_count": 6,
   "id": "63b68d9e",
   "metadata": {},
   "outputs": [
    {
     "data": {
      "text/plain": [
       "district      0\n",
       "home_size     0\n",
       "home_price    0\n",
       "dtype: int64"
      ]
     },
     "execution_count": 6,
     "metadata": {},
     "output_type": "execute_result"
    }
   ],
   "source": [
    "# check the Null values\n",
    "df.isnull().sum()"
   ]
  },
  {
   "cell_type": "code",
   "execution_count": 7,
   "id": "65424746",
   "metadata": {
    "scrolled": false
   },
   "outputs": [
    {
     "data": {
      "text/plain": [
       "district      0\n",
       "home_size     0\n",
       "home_price    0\n",
       "dtype: int64"
      ]
     },
     "execution_count": 7,
     "metadata": {},
     "output_type": "execute_result"
    }
   ],
   "source": [
    "# check the Null values\n",
    "df.isna().sum()"
   ]
  },
  {
   "cell_type": "code",
   "execution_count": 8,
   "id": "f225ba3c",
   "metadata": {},
   "outputs": [
    {
     "data": {
      "text/plain": [
       "طويق             2364\n",
       "الرمال           1311\n",
       "بدر               616\n",
       "عكاظ              591\n",
       "المهدية           505\n",
       "                 ... \n",
       "الملك عبدالله       1\n",
       "المصفاة             1\n",
       "الغنامية            1\n",
       "الكبير              1\n",
       "غبيرة               1\n",
       "Name: district, Length: 128, dtype: int64"
      ]
     },
     "execution_count": 8,
     "metadata": {},
     "output_type": "execute_result"
    }
   ],
   "source": [
    "# show most district duplicated in the dataset.\n",
    "df['district'].value_counts()"
   ]
  },
  {
   "cell_type": "code",
   "execution_count": 9,
   "id": "bc32ff7c",
   "metadata": {
    "scrolled": true
   },
   "outputs": [
    {
     "data": {
      "text/plain": [
       "6071"
      ]
     },
     "execution_count": 9,
     "metadata": {},
     "output_type": "execute_result"
    }
   ],
   "source": [
    "# check duplicated values, there is 6072 duplicated value\n",
    "df.duplicated().sum()"
   ]
  },
  {
   "cell_type": "code",
   "execution_count": 10,
   "id": "c7c3827a",
   "metadata": {},
   "outputs": [
    {
     "data": {
      "text/html": [
       "<div>\n",
       "<style scoped>\n",
       "    .dataframe tbody tr th:only-of-type {\n",
       "        vertical-align: middle;\n",
       "    }\n",
       "\n",
       "    .dataframe tbody tr th {\n",
       "        vertical-align: top;\n",
       "    }\n",
       "\n",
       "    .dataframe thead th {\n",
       "        text-align: right;\n",
       "    }\n",
       "</style>\n",
       "<table border=\"1\" class=\"dataframe\">\n",
       "  <thead>\n",
       "    <tr style=\"text-align: right;\">\n",
       "      <th></th>\n",
       "      <th>district</th>\n",
       "      <th>home_size</th>\n",
       "      <th>home_price</th>\n",
       "    </tr>\n",
       "  </thead>\n",
       "  <tbody>\n",
       "    <tr>\n",
       "      <th>405</th>\n",
       "      <td>الرمال</td>\n",
       "      <td>300</td>\n",
       "      <td>1370000</td>\n",
       "    </tr>\n",
       "    <tr>\n",
       "      <th>685</th>\n",
       "      <td>الرمال</td>\n",
       "      <td>300</td>\n",
       "      <td>1370000</td>\n",
       "    </tr>\n",
       "    <tr>\n",
       "      <th>2681</th>\n",
       "      <td>الرمال</td>\n",
       "      <td>300</td>\n",
       "      <td>1370000</td>\n",
       "    </tr>\n",
       "    <tr>\n",
       "      <th>4928</th>\n",
       "      <td>الرمال</td>\n",
       "      <td>300</td>\n",
       "      <td>1370000</td>\n",
       "    </tr>\n",
       "    <tr>\n",
       "      <th>10837</th>\n",
       "      <td>الرمال</td>\n",
       "      <td>300</td>\n",
       "      <td>1370000</td>\n",
       "    </tr>\n",
       "  </tbody>\n",
       "</table>\n",
       "</div>"
      ],
      "text/plain": [
       "      district  home_size  home_price\n",
       "405     الرمال        300     1370000\n",
       "685     الرمال        300     1370000\n",
       "2681    الرمال        300     1370000\n",
       "4928    الرمال        300     1370000\n",
       "10837   الرمال        300     1370000"
      ]
     },
     "execution_count": 10,
     "metadata": {},
     "output_type": "execute_result"
    }
   ],
   "source": [
    "# show sample of duplicated values\n",
    "duplicated_rows = df[(df['district']=='الرمال') & (df['home_price'] == 1370000) & (df['home_size'] == 300)]\n",
    "duplicated_rows"
   ]
  },
  {
   "cell_type": "code",
   "execution_count": 11,
   "id": "e06a5d2c",
   "metadata": {},
   "outputs": [],
   "source": [
    "# drop duplicated values using drop_duplicates()\n",
    "df.drop_duplicates(inplace=True)"
   ]
  },
  {
   "cell_type": "code",
   "execution_count": 12,
   "id": "c1002354",
   "metadata": {},
   "outputs": [
    {
     "data": {
      "text/plain": [
       "0"
      ]
     },
     "execution_count": 12,
     "metadata": {},
     "output_type": "execute_result"
    }
   ],
   "source": [
    "# check duplicated values agian, there is no duplicated values anymore\n",
    "df.duplicated().sum()"
   ]
  },
  {
   "cell_type": "code",
   "execution_count": 13,
   "id": "2c0f7514",
   "metadata": {},
   "outputs": [
    {
     "data": {
      "text/plain": [
       "(4754, 3)"
      ]
     },
     "execution_count": 13,
     "metadata": {},
     "output_type": "execute_result"
    }
   ],
   "source": [
    "# show the shape of dataset afte drop duplicated values. Now, we have 4753 row.\n",
    "df.shape"
   ]
  },
  {
   "cell_type": "code",
   "execution_count": 14,
   "id": "673852f3",
   "metadata": {
    "scrolled": true
   },
   "outputs": [
    {
     "data": {
      "text/plain": [
       "5"
      ]
     },
     "execution_count": 14,
     "metadata": {},
     "output_type": "execute_result"
    }
   ],
   "source": [
    "# here we have 5 rows called أحد which is same value with other one\n",
    "\n",
    "len(df[(df.district == 'أحد')])"
   ]
  },
  {
   "cell_type": "code",
   "execution_count": 15,
   "id": "e9c9ffa8",
   "metadata": {
    "scrolled": false
   },
   "outputs": [
    {
     "data": {
      "text/plain": [
       "5"
      ]
     },
     "execution_count": 15,
     "metadata": {},
     "output_type": "execute_result"
    }
   ],
   "source": [
    "# here we have 5 rows also called احد which is same value with last one above\n",
    "len(df[(df.district == 'احد')])"
   ]
  },
  {
   "cell_type": "code",
   "execution_count": 16,
   "id": "36e3c371",
   "metadata": {},
   "outputs": [],
   "source": [
    "# we need to fix it to make it one value, one name\n",
    "df['district'].replace('احد', 'أحد', inplace=True)"
   ]
  },
  {
   "cell_type": "code",
   "execution_count": 17,
   "id": "e626e3a4",
   "metadata": {
    "scrolled": true
   },
   "outputs": [
    {
     "data": {
      "text/plain": [
       "10"
      ]
     },
     "execution_count": 17,
     "metadata": {},
     "output_type": "execute_result"
    }
   ],
   "source": [
    "# Now, we fixed it and it became one an total 10\n",
    "len(df[(df.district == 'أحد')])"
   ]
  },
  {
   "cell_type": "code",
   "execution_count": 18,
   "id": "5ac71609",
   "metadata": {
    "scrolled": true
   },
   "outputs": [
    {
     "data": {
      "text/plain": [
       "0"
      ]
     },
     "execution_count": 18,
     "metadata": {},
     "output_type": "execute_result"
    }
   ],
   "source": [
    "# no duplicated value anymore\n",
    "len(df[(df.district == 'احد')])"
   ]
  },
  {
   "cell_type": "code",
   "execution_count": 19,
   "id": "b4db7045",
   "metadata": {},
   "outputs": [
    {
     "data": {
      "text/plain": [
       "array(['الرمال', 'الملقا', 'الياسمين', 'الفيحاء', 'عكاظ', 'المهدية',\n",
       "       'البديعة', 'بدر', 'الغدير', 'طويق', 'القادسية', 'لبن', 'التعاون',\n",
       "       'طيبة', 'النرجس', 'العارض', 'اليرموك', 'العزيزية', 'الرفيعة',\n",
       "       'عرقة', 'الشفا', 'الحزم', 'النهضة', 'الربوة', 'العقيق', 'حطين',\n",
       "       'الدولي', 'اشبيلية', 'الحمراء', 'الجنادرية', 'القدس', 'المنار',\n",
       "       'النظيم', 'الشرق', 'الغربي', 'المونسية', 'نمار', 'القيروان',\n",
       "       'الجديدة', 'الغربية', 'الوسطى', 'البيضاء', 'قرطبة',\n",
       "       'الملك عبدالله', 'ديراب', 'الاندلس', 'النفل', 'السعادة', 'الواحة',\n",
       "       'العليا', 'الزهرة', 'الروابي', 'السويدي', 'شبرا', 'الوشام',\n",
       "       'المروج', 'الصحافة', 'النخيل', 'الضباط', 'أحد', 'الخطاب', 'الروضة',\n",
       "       'السليمانية', 'الوسيطا', 'المعيزيلة', 'البيان', 'الخليج',\n",
       "       'الخزامى', 'ثليم', 'غرناطة', 'المنصورية', 'الندى', 'الندوة',\n",
       "       'المروة', 'الرحمانية', 'الخالدية', 'المحمدية', 'الورود', 'فيصل',\n",
       "       'الشرقي', 'الريان', 'المنصورة', 'العريجاء', 'الفلاح', 'فهد',\n",
       "       'الملز', 'السلام', 'الزهراء', 'الوادي', 'الخير', 'الشمالي',\n",
       "       'سلطانة', 'الربيع', 'الدريهمية', 'الرائد', 'الازدهار', 'المؤتمرات',\n",
       "       'الكبير', 'جرير', 'العان', 'عريض', 'المصيف', 'عتيقة', 'اليمامة',\n",
       "       'عبدالله', 'مشرف', 'بنبان', 'الغنامية', 'المصفاة', 'المرسلات',\n",
       "       'النزهة', 'الدين', 'الجزيرة', 'المغرزات', 'المناخ', 'الفاخرية',\n",
       "       'الفاروق', 'الشهداء', 'الاسكان', 'الصفا', 'البجادي', 'الدرعية',\n",
       "       'المربع', 'الهدا', 'الفرعي', 'عليشة', 'غبيرة'], dtype=object)"
      ]
     },
     "execution_count": 19,
     "metadata": {},
     "output_type": "execute_result"
    }
   ],
   "source": [
    "# Now, we have 127 district, it will be different after outliers removing\n",
    "df['district'].unique()"
   ]
  },
  {
   "cell_type": "code",
   "execution_count": 20,
   "id": "d4377b33",
   "metadata": {
    "scrolled": true
   },
   "outputs": [
    {
     "data": {
      "text/plain": [
       "127"
      ]
     },
     "execution_count": 20,
     "metadata": {},
     "output_type": "execute_result"
    }
   ],
   "source": [
    "df['district'].nunique()"
   ]
  },
  {
   "cell_type": "markdown",
   "id": "c5addd95",
   "metadata": {},
   "source": [
    "\n",
    "\n",
    "## To make perfect analysis, we have to check the outliers in the dataset and remove it.\n",
    "\n",
    "* I will make Boxplot to show outliers in Data"
   ]
  },
  {
   "cell_type": "code",
   "execution_count": 21,
   "id": "3dab7030",
   "metadata": {
    "scrolled": false
   },
   "outputs": [
    {
     "data": {
      "image/png": "[encoded data removed]",
      "text/plain": [
       "<Figure size 432x288 with 1 Axes>"
      ]
     },
     "metadata": {
      "needs_background": "light"
     },
     "output_type": "display_data"
    }
   ],
   "source": [
    "# the price outliers\n",
    "\n",
    "\n",
    "ax = sns.boxplot(x=df['home_price'])"
   ]
  },
  {
   "cell_type": "code",
   "execution_count": 22,
   "id": "054677f5",
   "metadata": {
    "scrolled": true
   },
   "outputs": [
    {
     "data": {
      "image/png": "[encoded data removed]",
      "text/plain": [
       "<Figure size 432x288 with 1 Axes>"
      ]
     },
     "metadata": {
      "needs_background": "light"
     },
     "output_type": "display_data"
    }
   ],
   "source": [
    "# the size outliers\n",
    "\n",
    "\n",
    "ax = sns.boxplot(x='home_size', data=df)"
   ]
  },
  {
   "cell_type": "code",
   "execution_count": 23,
   "id": "ea03d674",
   "metadata": {},
   "outputs": [
    {
     "data": {
      "image/png": "[encoded data removed]",
      "text/plain": [
       "<Figure size 432x288 with 1 Axes>"
      ]
     },
     "metadata": {
      "needs_background": "light"
     },
     "output_type": "display_data"
    }
   ],
   "source": [
    "# show price & size outliers in scatter plot\n",
    "\n",
    "sns.scatterplot(data=df,x=df['home_price'], y=df['home_size'])\n",
    "plt.show()"
   ]
  },
  {
   "cell_type": "code",
   "execution_count": 24,
   "id": "f9ccb3ba",
   "metadata": {},
   "outputs": [],
   "source": [
    "# make function to show outliers in boxplot\n",
    "\n",
    "def plot_boxplot(df, col):\n",
    "    df.boxplot(column=[col])\n",
    "    plt.grid(False)\n",
    "    plt.show"
   ]
  },
  {
   "cell_type": "code",
   "execution_count": 25,
   "id": "07b6decc",
   "metadata": {
    "scrolled": false
   },
   "outputs": [
    {
     "data": {
      "image/png": "[encoded data removed]",
      "text/plain": [
       "<Figure size 432x288 with 1 Axes>"
      ]
     },
     "metadata": {
      "needs_background": "light"
     },
     "output_type": "display_data"
    }
   ],
   "source": [
    "# outliers in prices\n",
    "plot_boxplot(df, 'home_price')"
   ]
  },
  {
   "cell_type": "code",
   "execution_count": 26,
   "id": "c533f9d7",
   "metadata": {},
   "outputs": [
    {
     "data": {
      "image/png": "[encoded data removed]",
      "text/plain": [
       "<Figure size 432x288 with 1 Axes>"
      ]
     },
     "metadata": {
      "needs_background": "light"
     },
     "output_type": "display_data"
    }
   ],
   "source": [
    "# outliers in size\n",
    "plot_boxplot(df, 'home_size')"
   ]
  },
  {
   "cell_type": "code",
   "execution_count": 27,
   "id": "345819e7",
   "metadata": {},
   "outputs": [],
   "source": [
    "# Let's remove outliers by applying IQR \n",
    "outliers_values =[]\n",
    "\n",
    "def outliers(pri, siz):\n",
    "    q1 = pri[siz].quantile(0.25)\n",
    "    q3 = pri[siz].quantile(0.75)\n",
    "    iqr = q3 - q1\n",
    "    \n",
    "    lower_limit = q1 - 1.5 * iqr\n",
    "    upper_limit = q3 + 1.5 * iqr\n",
    "    \n",
    "    ls = pri.index[ (pri[siz] < lower_limit) | (pri[siz] > upper_limit) ]\n",
    "    return ls"
   ]
  },
  {
   "cell_type": "code",
   "execution_count": 28,
   "id": "e5f2ac4c",
   "metadata": {},
   "outputs": [],
   "source": [
    "# here we can show the ouliers in a list\n",
    "\n",
    "\n",
    "index_list = []\n",
    "for outlier in ['home_size', 'home_price']:\n",
    "    index_list.extend(outliers(df, outlier))\n",
    "\n",
    "    \n",
    "# index_list"
   ]
  },
  {
   "cell_type": "code",
   "execution_count": 29,
   "id": "6ca2b0ad",
   "metadata": {},
   "outputs": [],
   "source": [
    "# function to remove outliers\n",
    "def remove_outliers(df, ls):\n",
    "    ls = sorted(set(ls))\n",
    "    df = df.drop(ls) \n",
    "    return df"
   ]
  },
  {
   "cell_type": "markdown",
   "id": "285c2aee",
   "metadata": {},
   "source": [
    "## Here we will start new DF called `df_cleaned`, without outliers values, "
   ]
  },
  {
   "cell_type": "code",
   "execution_count": 30,
   "id": "aa43b216",
   "metadata": {},
   "outputs": [],
   "source": [
    "df_cleaned = remove_outliers(df, index_list)"
   ]
  },
  {
   "cell_type": "code",
   "execution_count": 31,
   "id": "474d983c",
   "metadata": {
    "scrolled": true
   },
   "outputs": [
    {
     "data": {
      "text/plain": [
       "114"
      ]
     },
     "execution_count": 31,
     "metadata": {},
     "output_type": "execute_result"
    }
   ],
   "source": [
    "# after remove outliers, we have 99 district\n",
    "df_cleaned['district'].nunique()"
   ]
  },
  {
   "cell_type": "code",
   "execution_count": 32,
   "id": "7e40273a",
   "metadata": {},
   "outputs": [
    {
     "data": {
      "text/plain": [
       "(4103, 3)"
      ]
     },
     "execution_count": 32,
     "metadata": {},
     "output_type": "execute_result"
    }
   ],
   "source": [
    "# Now, we have 4102 rows\n",
    "df_cleaned.shape"
   ]
  },
  {
   "cell_type": "code",
   "execution_count": 33,
   "id": "1c91a85a",
   "metadata": {
    "scrolled": true
   },
   "outputs": [
    {
     "data": {
      "text/html": [
       "<div>\n",
       "<style scoped>\n",
       "    .dataframe tbody tr th:only-of-type {\n",
       "        vertical-align: middle;\n",
       "    }\n",
       "\n",
       "    .dataframe tbody tr th {\n",
       "        vertical-align: top;\n",
       "    }\n",
       "\n",
       "    .dataframe thead th {\n",
       "        text-align: right;\n",
       "    }\n",
       "</style>\n",
       "<table border=\"1\" class=\"dataframe\">\n",
       "  <thead>\n",
       "    <tr style=\"text-align: right;\">\n",
       "      <th></th>\n",
       "      <th>home_size</th>\n",
       "      <th>home_price</th>\n",
       "    </tr>\n",
       "  </thead>\n",
       "  <tbody>\n",
       "    <tr>\n",
       "      <th>count</th>\n",
       "      <td>4103.000000</td>\n",
       "      <td>4.103000e+03</td>\n",
       "    </tr>\n",
       "    <tr>\n",
       "      <th>mean</th>\n",
       "      <td>330.329271</td>\n",
       "      <td>1.541124e+06</td>\n",
       "    </tr>\n",
       "    <tr>\n",
       "      <th>std</th>\n",
       "      <td>90.437838</td>\n",
       "      <td>6.813726e+05</td>\n",
       "    </tr>\n",
       "    <tr>\n",
       "      <th>min</th>\n",
       "      <td>103.000000</td>\n",
       "      <td>5.000000e+04</td>\n",
       "    </tr>\n",
       "    <tr>\n",
       "      <th>25%</th>\n",
       "      <td>260.000000</td>\n",
       "      <td>1.070000e+06</td>\n",
       "    </tr>\n",
       "    <tr>\n",
       "      <th>50%</th>\n",
       "      <td>312.000000</td>\n",
       "      <td>1.350000e+06</td>\n",
       "    </tr>\n",
       "    <tr>\n",
       "      <th>75%</th>\n",
       "      <td>375.000000</td>\n",
       "      <td>1.850000e+06</td>\n",
       "    </tr>\n",
       "    <tr>\n",
       "      <th>max</th>\n",
       "      <td>645.000000</td>\n",
       "      <td>3.850000e+06</td>\n",
       "    </tr>\n",
       "  </tbody>\n",
       "</table>\n",
       "</div>"
      ],
      "text/plain": [
       "         home_size    home_price\n",
       "count  4103.000000  4.103000e+03\n",
       "mean    330.329271  1.541124e+06\n",
       "std      90.437838  6.813726e+05\n",
       "min     103.000000  5.000000e+04\n",
       "25%     260.000000  1.070000e+06\n",
       "50%     312.000000  1.350000e+06\n",
       "75%     375.000000  1.850000e+06\n",
       "max     645.000000  3.850000e+06"
      ]
     },
     "execution_count": 33,
     "metadata": {},
     "output_type": "execute_result"
    }
   ],
   "source": [
    "df_cleaned.describe()"
   ]
  },
  {
   "cell_type": "code",
   "execution_count": 34,
   "id": "280d8cdf",
   "metadata": {
    "scrolled": true
   },
   "outputs": [
    {
     "data": {
      "image/png": "[encoded data removed]",
      "text/plain": [
       "<Figure size 432x288 with 1 Axes>"
      ]
     },
     "metadata": {
      "needs_background": "light"
     },
     "output_type": "display_data"
    }
   ],
   "source": [
    "# we still have little outliers in prices\n",
    "plot_boxplot(df_cleaned, 'home_price')"
   ]
  },
  {
   "cell_type": "code",
   "execution_count": 35,
   "id": "0eb3b984",
   "metadata": {
    "scrolled": true
   },
   "outputs": [
    {
     "data": {
      "image/png": "[encoded data removed]",
      "text/plain": [
       "<Figure size 432x288 with 1 Axes>"
      ]
     },
     "metadata": {
      "needs_background": "light"
     },
     "output_type": "display_data"
    }
   ],
   "source": [
    "# we still have little outliers in size\n",
    "plot_boxplot(df_cleaned, 'home_size')"
   ]
  },
  {
   "cell_type": "code",
   "execution_count": 36,
   "id": "0c8994d6",
   "metadata": {},
   "outputs": [
    {
     "data": {
      "text/plain": [
       "(4103, 3)"
      ]
     },
     "execution_count": 36,
     "metadata": {},
     "output_type": "execute_result"
    }
   ],
   "source": [
    "df_cleaned.shape"
   ]
  },
  {
   "cell_type": "code",
   "execution_count": 37,
   "id": "4dde5687",
   "metadata": {
    "scrolled": true
   },
   "outputs": [
    {
     "data": {
      "image/png": "[encoded data removed]",
      "text/plain": [
       "<Figure size 432x288 with 1 Axes>"
      ]
     },
     "metadata": {
      "needs_background": "light"
     },
     "output_type": "display_data"
    }
   ],
   "source": [
    "# another boxplot for home size\n",
    "ax = sns.boxplot(x=df_cleaned['home_size'])"
   ]
  },
  {
   "cell_type": "code",
   "execution_count": 38,
   "id": "e4909a7e",
   "metadata": {
    "scrolled": true
   },
   "outputs": [
    {
     "data": {
      "image/png": "[encoded data removed]",
      "text/plain": [
       "<Figure size 432x288 with 1 Axes>"
      ]
     },
     "metadata": {
      "needs_background": "light"
     },
     "output_type": "display_data"
    }
   ],
   "source": [
    "# another boxplot for home price\n",
    "\n",
    "ax = sns.boxplot(x=df_cleaned['home_price'])"
   ]
  },
  {
   "cell_type": "code",
   "execution_count": 39,
   "id": "5b697b6e",
   "metadata": {},
   "outputs": [
    {
     "data": {
      "text/plain": [
       "home_size         375.0\n",
       "home_price    1850000.0\n",
       "Name: 0.75, dtype: float64"
      ]
     },
     "execution_count": 39,
     "metadata": {},
     "output_type": "execute_result"
    }
   ],
   "source": [
    "# 75% of houses is lower 1,900,000 Million SAR\n",
    "df_cleaned.quantile(0.75)"
   ]
  },
  {
   "cell_type": "code",
   "execution_count": 40,
   "id": "d8e4e1be",
   "metadata": {
    "scrolled": false
   },
   "outputs": [
    {
     "data": {
      "image/png": "[encoded data removed]",
      "text/plain": [
       "<Figure size 432x288 with 1 Axes>"
      ]
     },
     "metadata": {
      "needs_background": "light"
     },
     "output_type": "display_data"
    }
   ],
   "source": [
    "sns.scatterplot(data=df_cleaned,x=df_cleaned['home_price'], y=df_cleaned['home_size'])\n",
    "plt.show()"
   ]
  },
  {
   "cell_type": "markdown",
   "id": "854c1a0d",
   "metadata": {},
   "source": [
    "# Analyzing"
   ]
  },
  {
   "cell_type": "markdown",
   "id": "33693b4d",
   "metadata": {},
   "source": [
    "* \n",
    "* \n",
    "* \n",
    " `Show avg of size & prices, and houses location in Dashboard` 🔗: [Tableau](https://public.tableau.com/app/profile/mansour5290/viz/_16482922707430/sheet5)\n",
    "\n",
    "* \n",
    "* \n",
    "* "
   ]
  },
  {
   "cell_type": "code",
   "execution_count": 41,
   "id": "ae080a2b",
   "metadata": {},
   "outputs": [],
   "source": [
    "# let's see the price & size avarege per district\n",
    "avg = df_cleaned.groupby('district').mean()"
   ]
  },
  {
   "cell_type": "code",
   "execution_count": 42,
   "id": "3b306b27",
   "metadata": {},
   "outputs": [],
   "source": [
    "avg_per_district = pd.DataFrame.from_dict(avg)"
   ]
  },
  {
   "cell_type": "code",
   "execution_count": 43,
   "id": "103314fd",
   "metadata": {},
   "outputs": [],
   "source": [
    "avg_per_district['district'] = avg_per_district.index"
   ]
  },
  {
   "cell_type": "code",
   "execution_count": 44,
   "id": "69449b4b",
   "metadata": {},
   "outputs": [
    {
     "data": {
      "image/png": "[encoded data removed]",
      "text/plain": [
       "<Figure size 432x288 with 1 Axes>"
      ]
     },
     "metadata": {
      "needs_background": "light"
     },
     "output_type": "display_data"
    }
   ],
   "source": [
    "# size avarege per district\n",
    "avg_per_district['district'] = avg_per_district.index\n",
    "\n",
    "sns.barplot(data=avg_per_district.nlargest(n=5, columns='home_size'), x=\"district\", y=\"home_size\")\n",
    "plt.title('homes size avg per district')\n",
    "plt.xlabel('district')\n",
    "plt.ylabel('avg size')\n",
    "plt.show()"
   ]
  },
  {
   "cell_type": "code",
   "execution_count": 45,
   "id": "7c3110db",
   "metadata": {},
   "outputs": [
    {
     "data": {
      "image/png": "[encoded data removed]",
      "text/plain": [
       "<Figure size 432x288 with 1 Axes>"
      ]
     },
     "metadata": {
      "needs_background": "light"
     },
     "output_type": "display_data"
    }
   ],
   "source": [
    "# price avarege per district\n",
    "avg_per_district['district'] = avg_per_district.index\n",
    "\n",
    "sns.barplot(data=avg_per_district.nlargest(n=5, columns='home_price'), x=\"district\", y=\"home_price\")\n",
    "plt.title('avg of homes prices per district')\n",
    "plt.xlabel('district')\n",
    "plt.ylabel('avg price')\n",
    "plt.show()"
   ]
  },
  {
   "cell_type": "code",
   "execution_count": 46,
   "id": "dd8dc02c",
   "metadata": {
    "scrolled": true
   },
   "outputs": [
    {
     "data": {
      "text/plain": [
       "50000"
      ]
     },
     "execution_count": 46,
     "metadata": {},
     "output_type": "execute_result"
    }
   ],
   "source": [
    "# Lowest price in the dataset\n",
    "df_cleaned['home_price'].min()"
   ]
  },
  {
   "cell_type": "code",
   "execution_count": 47,
   "id": "80bced7a",
   "metadata": {},
   "outputs": [
    {
     "data": {
      "text/plain": [
       "3850000"
      ]
     },
     "execution_count": 47,
     "metadata": {},
     "output_type": "execute_result"
    }
   ],
   "source": [
    "# Highest price in the dataset\n",
    "df_cleaned['home_price'].max()"
   ]
  },
  {
   "cell_type": "code",
   "execution_count": 48,
   "id": "d9d01f2c",
   "metadata": {},
   "outputs": [
    {
     "data": {
      "text/plain": [
       "1541123.7355593469"
      ]
     },
     "execution_count": 48,
     "metadata": {},
     "output_type": "execute_result"
    }
   ],
   "source": [
    "# Avg of all prices\n",
    "df_cleaned['home_price'].mean()"
   ]
  },
  {
   "cell_type": "code",
   "execution_count": 49,
   "id": "1febb763",
   "metadata": {
    "scrolled": true
   },
   "outputs": [
    {
     "data": {
      "text/plain": [
       "103"
      ]
     },
     "execution_count": 49,
     "metadata": {},
     "output_type": "execute_result"
    }
   ],
   "source": [
    "# Lowest size in the dataset\n",
    "df_cleaned['home_size'].min()"
   ]
  },
  {
   "cell_type": "code",
   "execution_count": 50,
   "id": "27b8aff6",
   "metadata": {},
   "outputs": [
    {
     "data": {
      "text/plain": [
       "645"
      ]
     },
     "execution_count": 50,
     "metadata": {},
     "output_type": "execute_result"
    }
   ],
   "source": [
    "# Highest size in the dataset\n",
    "df_cleaned['home_size'].max()"
   ]
  },
  {
   "cell_type": "code",
   "execution_count": 51,
   "id": "e5bbf7e2",
   "metadata": {},
   "outputs": [
    {
     "data": {
      "text/plain": [
       "330.3292712649281"
      ]
     },
     "execution_count": 51,
     "metadata": {},
     "output_type": "execute_result"
    }
   ],
   "source": [
    "# Avg of all size values\n",
    "df_cleaned['home_size'].mean()"
   ]
  },
  {
   "cell_type": "code",
   "execution_count": 52,
   "id": "fc4da32c",
   "metadata": {
    "scrolled": false
   },
   "outputs": [
    {
     "data": {
      "text/html": [
       "<div>\n",
       "<style scoped>\n",
       "    .dataframe tbody tr th:only-of-type {\n",
       "        vertical-align: middle;\n",
       "    }\n",
       "\n",
       "    .dataframe tbody tr th {\n",
       "        vertical-align: top;\n",
       "    }\n",
       "\n",
       "    .dataframe thead th {\n",
       "        text-align: right;\n",
       "    }\n",
       "</style>\n",
       "<table border=\"1\" class=\"dataframe\">\n",
       "  <thead>\n",
       "    <tr style=\"text-align: right;\">\n",
       "      <th></th>\n",
       "      <th>home_size</th>\n",
       "      <th>home_price</th>\n",
       "    </tr>\n",
       "    <tr>\n",
       "      <th>district</th>\n",
       "      <th></th>\n",
       "      <th></th>\n",
       "    </tr>\n",
       "  </thead>\n",
       "  <tbody>\n",
       "    <tr>\n",
       "      <th>الغدير</th>\n",
       "      <td>600.000000</td>\n",
       "      <td>3550000.0</td>\n",
       "    </tr>\n",
       "    <tr>\n",
       "      <th>المحمدية</th>\n",
       "      <td>325.000000</td>\n",
       "      <td>3500000.0</td>\n",
       "    </tr>\n",
       "    <tr>\n",
       "      <th>حطين</th>\n",
       "      <td>302.666667</td>\n",
       "      <td>3350000.0</td>\n",
       "    </tr>\n",
       "    <tr>\n",
       "      <th>المغرزات</th>\n",
       "      <td>461.500000</td>\n",
       "      <td>3349500.0</td>\n",
       "    </tr>\n",
       "    <tr>\n",
       "      <th>عرقة</th>\n",
       "      <td>346.666667</td>\n",
       "      <td>3300000.0</td>\n",
       "    </tr>\n",
       "  </tbody>\n",
       "</table>\n",
       "</div>"
      ],
      "text/plain": [
       "           home_size  home_price\n",
       "district                        \n",
       "الغدير    600.000000   3550000.0\n",
       "المحمدية  325.000000   3500000.0\n",
       "حطين      302.666667   3350000.0\n",
       "المغرزات  461.500000   3349500.0\n",
       "عرقة      346.666667   3300000.0"
      ]
     },
     "execution_count": 52,
     "metadata": {},
     "output_type": "execute_result"
    }
   ],
   "source": [
    "# Top 10 avg of prices per district\n",
    "\n",
    "top_avg_price = df_cleaned.groupby(['district']).mean().nlargest(n=5, columns=['home_price'])#.plot(kind='barh')\n",
    "\n",
    "top_avg_price"
   ]
  },
  {
   "cell_type": "code",
   "execution_count": 53,
   "id": "eed3681d",
   "metadata": {},
   "outputs": [
    {
     "data": {
      "text/html": [
       "<div>\n",
       "<style scoped>\n",
       "    .dataframe tbody tr th:only-of-type {\n",
       "        vertical-align: middle;\n",
       "    }\n",
       "\n",
       "    .dataframe tbody tr th {\n",
       "        vertical-align: top;\n",
       "    }\n",
       "\n",
       "    .dataframe thead th {\n",
       "        text-align: right;\n",
       "    }\n",
       "</style>\n",
       "<table border=\"1\" class=\"dataframe\">\n",
       "  <thead>\n",
       "    <tr style=\"text-align: right;\">\n",
       "      <th></th>\n",
       "      <th>home_size</th>\n",
       "      <th>home_price</th>\n",
       "    </tr>\n",
       "    <tr>\n",
       "      <th>district</th>\n",
       "      <th></th>\n",
       "      <th></th>\n",
       "    </tr>\n",
       "  </thead>\n",
       "  <tbody>\n",
       "    <tr>\n",
       "      <th>الجديدة</th>\n",
       "      <td>214.0</td>\n",
       "      <td>270000.0</td>\n",
       "    </tr>\n",
       "    <tr>\n",
       "      <th>غبيرة</th>\n",
       "      <td>200.0</td>\n",
       "      <td>400000.0</td>\n",
       "    </tr>\n",
       "    <tr>\n",
       "      <th>عتيقة</th>\n",
       "      <td>274.5</td>\n",
       "      <td>450000.0</td>\n",
       "    </tr>\n",
       "    <tr>\n",
       "      <th>اليمامة</th>\n",
       "      <td>351.8</td>\n",
       "      <td>610000.0</td>\n",
       "    </tr>\n",
       "    <tr>\n",
       "      <th>ثليم</th>\n",
       "      <td>138.5</td>\n",
       "      <td>670000.0</td>\n",
       "    </tr>\n",
       "  </tbody>\n",
       "</table>\n",
       "</div>"
      ],
      "text/plain": [
       "          home_size  home_price\n",
       "district                       \n",
       "الجديدة       214.0    270000.0\n",
       "غبيرة         200.0    400000.0\n",
       "عتيقة         274.5    450000.0\n",
       "اليمامة       351.8    610000.0\n",
       "ثليم          138.5    670000.0"
      ]
     },
     "execution_count": 53,
     "metadata": {},
     "output_type": "execute_result"
    }
   ],
   "source": [
    "# Bottom 10 avg of prices per district\n",
    "\n",
    "bottom_avg_price = df_cleaned.groupby(['district']).mean().nsmallest(n=5, columns=['home_price'])#.plot(kind='barh')\n",
    "\n",
    "bottom_avg_price"
   ]
  },
  {
   "cell_type": "code",
   "execution_count": 54,
   "id": "98761f83",
   "metadata": {
    "scrolled": false
   },
   "outputs": [
    {
     "data": {
      "text/html": [
       "<div>\n",
       "<style scoped>\n",
       "    .dataframe tbody tr th:only-of-type {\n",
       "        vertical-align: middle;\n",
       "    }\n",
       "\n",
       "    .dataframe tbody tr th {\n",
       "        vertical-align: top;\n",
       "    }\n",
       "\n",
       "    .dataframe thead th {\n",
       "        text-align: right;\n",
       "    }\n",
       "</style>\n",
       "<table border=\"1\" class=\"dataframe\">\n",
       "  <thead>\n",
       "    <tr style=\"text-align: right;\">\n",
       "      <th></th>\n",
       "      <th>home_size</th>\n",
       "      <th>home_price</th>\n",
       "    </tr>\n",
       "    <tr>\n",
       "      <th>district</th>\n",
       "      <th></th>\n",
       "      <th></th>\n",
       "    </tr>\n",
       "  </thead>\n",
       "  <tbody>\n",
       "    <tr>\n",
       "      <th>الغدير</th>\n",
       "      <td>600.000000</td>\n",
       "      <td>3.550000e+06</td>\n",
       "    </tr>\n",
       "    <tr>\n",
       "      <th>الريان</th>\n",
       "      <td>572.000000</td>\n",
       "      <td>2.400000e+06</td>\n",
       "    </tr>\n",
       "    <tr>\n",
       "      <th>الخالدية</th>\n",
       "      <td>520.000000</td>\n",
       "      <td>1.166667e+06</td>\n",
       "    </tr>\n",
       "    <tr>\n",
       "      <th>الحمراء</th>\n",
       "      <td>503.142857</td>\n",
       "      <td>3.035714e+06</td>\n",
       "    </tr>\n",
       "    <tr>\n",
       "      <th>الضباط</th>\n",
       "      <td>502.500000</td>\n",
       "      <td>2.650000e+06</td>\n",
       "    </tr>\n",
       "  </tbody>\n",
       "</table>\n",
       "</div>"
      ],
      "text/plain": [
       "           home_size    home_price\n",
       "district                          \n",
       "الغدير    600.000000  3.550000e+06\n",
       "الريان    572.000000  2.400000e+06\n",
       "الخالدية  520.000000  1.166667e+06\n",
       "الحمراء   503.142857  3.035714e+06\n",
       "الضباط    502.500000  2.650000e+06"
      ]
     },
     "execution_count": 54,
     "metadata": {},
     "output_type": "execute_result"
    }
   ],
   "source": [
    "# Top 10 avg of size per district\n",
    "\n",
    "top_avg_size = df_cleaned.groupby(['district']).mean().nlargest(n=5, columns=['home_size'])#.plot(kind='barh')\n",
    "\n",
    "top_avg_size"
   ]
  },
  {
   "cell_type": "code",
   "execution_count": 55,
   "id": "1a626ef1",
   "metadata": {},
   "outputs": [
    {
     "data": {
      "text/html": [
       "<div>\n",
       "<style scoped>\n",
       "    .dataframe tbody tr th:only-of-type {\n",
       "        vertical-align: middle;\n",
       "    }\n",
       "\n",
       "    .dataframe tbody tr th {\n",
       "        vertical-align: top;\n",
       "    }\n",
       "\n",
       "    .dataframe thead th {\n",
       "        text-align: right;\n",
       "    }\n",
       "</style>\n",
       "<table border=\"1\" class=\"dataframe\">\n",
       "  <thead>\n",
       "    <tr style=\"text-align: right;\">\n",
       "      <th></th>\n",
       "      <th>home_size</th>\n",
       "      <th>home_price</th>\n",
       "    </tr>\n",
       "    <tr>\n",
       "      <th>district</th>\n",
       "      <th></th>\n",
       "      <th></th>\n",
       "    </tr>\n",
       "  </thead>\n",
       "  <tbody>\n",
       "    <tr>\n",
       "      <th>ثليم</th>\n",
       "      <td>138.5</td>\n",
       "      <td>670000.0</td>\n",
       "    </tr>\n",
       "    <tr>\n",
       "      <th>الرحمانية</th>\n",
       "      <td>170.5</td>\n",
       "      <td>1750000.0</td>\n",
       "    </tr>\n",
       "    <tr>\n",
       "      <th>المربع</th>\n",
       "      <td>200.0</td>\n",
       "      <td>1900000.0</td>\n",
       "    </tr>\n",
       "    <tr>\n",
       "      <th>غبيرة</th>\n",
       "      <td>200.0</td>\n",
       "      <td>400000.0</td>\n",
       "    </tr>\n",
       "    <tr>\n",
       "      <th>الجديدة</th>\n",
       "      <td>214.0</td>\n",
       "      <td>270000.0</td>\n",
       "    </tr>\n",
       "  </tbody>\n",
       "</table>\n",
       "</div>"
      ],
      "text/plain": [
       "           home_size  home_price\n",
       "district                        \n",
       "ثليم           138.5    670000.0\n",
       "الرحمانية      170.5   1750000.0\n",
       "المربع         200.0   1900000.0\n",
       "غبيرة          200.0    400000.0\n",
       "الجديدة        214.0    270000.0"
      ]
     },
     "execution_count": 55,
     "metadata": {},
     "output_type": "execute_result"
    }
   ],
   "source": [
    "# Bottom 10 avg of size per district\n",
    "\n",
    "bottom_avg_size = df_cleaned.groupby(['district']).mean().nsmallest(n=5, columns=['home_size'])#.plot(kind='barh')\n",
    "\n",
    "bottom_avg_size"
   ]
  },
  {
   "cell_type": "code",
   "execution_count": 56,
   "id": "40439977",
   "metadata": {
    "scrolled": true
   },
   "outputs": [
    {
     "data": {
      "text/html": [
       "<div>\n",
       "<style scoped>\n",
       "    .dataframe tbody tr th:only-of-type {\n",
       "        vertical-align: middle;\n",
       "    }\n",
       "\n",
       "    .dataframe tbody tr th {\n",
       "        vertical-align: top;\n",
       "    }\n",
       "\n",
       "    .dataframe thead th {\n",
       "        text-align: right;\n",
       "    }\n",
       "</style>\n",
       "<table border=\"1\" class=\"dataframe\">\n",
       "  <thead>\n",
       "    <tr style=\"text-align: right;\">\n",
       "      <th></th>\n",
       "      <th>home_size</th>\n",
       "      <th>home_price</th>\n",
       "    </tr>\n",
       "    <tr>\n",
       "      <th>district</th>\n",
       "      <th></th>\n",
       "      <th></th>\n",
       "    </tr>\n",
       "  </thead>\n",
       "  <tbody>\n",
       "    <tr>\n",
       "      <th>أحد</th>\n",
       "      <td>328.300000</td>\n",
       "      <td>1.189000e+06</td>\n",
       "    </tr>\n",
       "    <tr>\n",
       "      <th>اشبيلية</th>\n",
       "      <td>402.666667</td>\n",
       "      <td>2.251389e+06</td>\n",
       "    </tr>\n",
       "    <tr>\n",
       "      <th>الاسكان</th>\n",
       "      <td>400.000000</td>\n",
       "      <td>9.500000e+05</td>\n",
       "    </tr>\n",
       "    <tr>\n",
       "      <th>الاندلس</th>\n",
       "      <td>402.230769</td>\n",
       "      <td>2.349231e+06</td>\n",
       "    </tr>\n",
       "    <tr>\n",
       "      <th>البجادي</th>\n",
       "      <td>372.000000</td>\n",
       "      <td>1.250000e+06</td>\n",
       "    </tr>\n",
       "    <tr>\n",
       "      <th>البديعة</th>\n",
       "      <td>382.526316</td>\n",
       "      <td>1.197237e+06</td>\n",
       "    </tr>\n",
       "    <tr>\n",
       "      <th>البيان</th>\n",
       "      <td>360.692308</td>\n",
       "      <td>1.461923e+06</td>\n",
       "    </tr>\n",
       "    <tr>\n",
       "      <th>البيضاء</th>\n",
       "      <td>299.149485</td>\n",
       "      <td>9.392835e+05</td>\n",
       "    </tr>\n",
       "    <tr>\n",
       "      <th>التعاون</th>\n",
       "      <td>310.000000</td>\n",
       "      <td>2.266667e+06</td>\n",
       "    </tr>\n",
       "    <tr>\n",
       "      <th>الجديدة</th>\n",
       "      <td>214.000000</td>\n",
       "      <td>2.700000e+05</td>\n",
       "    </tr>\n",
       "  </tbody>\n",
       "</table>\n",
       "</div>"
      ],
      "text/plain": [
       "           home_size    home_price\n",
       "district                          \n",
       "أحد       328.300000  1.189000e+06\n",
       "اشبيلية   402.666667  2.251389e+06\n",
       "الاسكان   400.000000  9.500000e+05\n",
       "الاندلس   402.230769  2.349231e+06\n",
       "البجادي   372.000000  1.250000e+06\n",
       "البديعة   382.526316  1.197237e+06\n",
       "البيان    360.692308  1.461923e+06\n",
       "البيضاء   299.149485  9.392835e+05\n",
       "التعاون   310.000000  2.266667e+06\n",
       "الجديدة   214.000000  2.700000e+05"
      ]
     },
     "execution_count": 56,
     "metadata": {},
     "output_type": "execute_result"
    }
   ],
   "source": [
    "price_mean = df_cleaned.groupby('district').mean()\n",
    "price_mean.head(10)"
   ]
  },
  {
   "cell_type": "code",
   "execution_count": 57,
   "id": "a991aeae",
   "metadata": {},
   "outputs": [
    {
     "data": {
      "text/plain": [
       "(4103, 3)"
      ]
     },
     "execution_count": 57,
     "metadata": {},
     "output_type": "execute_result"
    }
   ],
   "source": [
    "df_cleaned.shape"
   ]
  },
  {
   "cell_type": "code",
   "execution_count": 58,
   "id": "e3ad610b",
   "metadata": {
    "scrolled": true
   },
   "outputs": [
    {
     "name": "stderr",
     "output_type": "stream",
     "text": [
      "c:\\users\\manso\\appdata\\local\\programs\\python\\python39\\lib\\site-packages\\seaborn\\distributions.py:2619: FutureWarning: `distplot` is a deprecated function and will be removed in a future version. Please adapt your code to use either `displot` (a figure-level function with similar flexibility) or `histplot` (an axes-level function for histograms).\n",
      "  warnings.warn(msg, FutureWarning)\n"
     ]
    },
    {
     "data": {
      "text/plain": [
       "<AxesSubplot:xlabel='home_price', ylabel='Density'>"
      ]
     },
     "execution_count": 58,
     "metadata": {},
     "output_type": "execute_result"
    },
    {
     "data": {
      "image/png": "[encoded data removed]",
      "text/plain": [
       "<Figure size 720x432 with 1 Axes>"
      ]
     },
     "metadata": {
      "needs_background": "light"
     },
     "output_type": "display_data"
    }
   ],
   "source": [
    "\n",
    "plt.figure(figsize=(10,6))\n",
    "plt.ticklabel_format(style='plain')\n",
    "\n",
    "sns.distplot(df_cleaned['home_price'], color='#008B8B')\n"
   ]
  },
  {
   "cell_type": "code",
   "execution_count": 59,
   "id": "865af36f",
   "metadata": {
    "scrolled": true
   },
   "outputs": [
    {
     "name": "stderr",
     "output_type": "stream",
     "text": [
      "c:\\users\\manso\\appdata\\local\\programs\\python\\python39\\lib\\site-packages\\seaborn\\distributions.py:2619: FutureWarning: `distplot` is a deprecated function and will be removed in a future version. Please adapt your code to use either `displot` (a figure-level function with similar flexibility) or `histplot` (an axes-level function for histograms).\n",
      "  warnings.warn(msg, FutureWarning)\n"
     ]
    },
    {
     "data": {
      "text/plain": [
       "<AxesSubplot:xlabel='home_size', ylabel='Density'>"
      ]
     },
     "execution_count": 59,
     "metadata": {},
     "output_type": "execute_result"
    },
    {
     "data": {
      "image/png": "[encoded data removed]",
      "text/plain": [
       "<Figure size 720x432 with 1 Axes>"
      ]
     },
     "metadata": {
      "needs_background": "light"
     },
     "output_type": "display_data"
    }
   ],
   "source": [
    "plt.figure(figsize=(10,6))\n",
    "sns.distplot(df_cleaned['home_size'], color='r')"
   ]
  },
  {
   "cell_type": "markdown",
   "id": "077ef1a7",
   "metadata": {},
   "source": [
    "# Location based on Lat & Long\n",
    "\n",
    "## we will merge the districts dataframes with Lat & Long dataframe (`riyadh_locations`), for  visualization of average purpose.\n",
    "* 1- drop unneeded columns from `riyadh_locations`\n",
    "* 2- change the `District_name_AR` to `district` to be same column name for our dataframe for merge purpose\n",
    "* 3- make list of each districts based on location on the city (North, West, East, South),\n",
    "* 4- extract that rows contains the districts, and merge it with `riyadh_locations` in new DF as `mean` values and based on `district` column.\n",
    "* 5- append all datafames to each other, then download it and visulize the average prices and size on a Map using `Power Bi`\n"
   ]
  },
  {
   "cell_type": "code",
   "execution_count": 60,
   "id": "a10a7113",
   "metadata": {
    "scrolled": false
   },
   "outputs": [
    {
     "data": {
      "text/html": [
       "<div>\n",
       "<style scoped>\n",
       "    .dataframe tbody tr th:only-of-type {\n",
       "        vertical-align: middle;\n",
       "    }\n",
       "\n",
       "    .dataframe tbody tr th {\n",
       "        vertical-align: top;\n",
       "    }\n",
       "\n",
       "    .dataframe thead th {\n",
       "        text-align: right;\n",
       "    }\n",
       "</style>\n",
       "<table border=\"1\" class=\"dataframe\">\n",
       "  <thead>\n",
       "    <tr style=\"text-align: right;\">\n",
       "      <th></th>\n",
       "      <th>District_name_EN</th>\n",
       "      <th>District_name_AR</th>\n",
       "      <th>latitude</th>\n",
       "      <th>longitude</th>\n",
       "      <th>Population</th>\n",
       "      <th>Males_(%)</th>\n",
       "      <th>Females_(%)</th>\n",
       "      <th>Saudis_(%)</th>\n",
       "      <th>Non_Saudis_(%)</th>\n",
       "      <th>Males</th>\n",
       "      <th>Females</th>\n",
       "      <th>Saudis</th>\n",
       "      <th>Non_Saudis</th>\n",
       "      <th>Average_Income</th>\n",
       "    </tr>\n",
       "  </thead>\n",
       "  <tbody>\n",
       "    <tr>\n",
       "      <th>0</th>\n",
       "      <td>Ad Dar Al Baida, Riyadh</td>\n",
       "      <td>دار البيضاء</td>\n",
       "      <td>24.566842</td>\n",
       "      <td>46.790295</td>\n",
       "      <td>168900.0</td>\n",
       "      <td>0.56</td>\n",
       "      <td>0.44</td>\n",
       "      <td>0.84</td>\n",
       "      <td>0.16</td>\n",
       "      <td>93908.0</td>\n",
       "      <td>74992.0</td>\n",
       "      <td>142214.0</td>\n",
       "      <td>26686.0</td>\n",
       "      <td>6900.0</td>\n",
       "    </tr>\n",
       "    <tr>\n",
       "      <th>1</th>\n",
       "      <td>Ad Dhubbat</td>\n",
       "      <td>الضباط</td>\n",
       "      <td>24.679383</td>\n",
       "      <td>46.721847</td>\n",
       "      <td>20400.0</td>\n",
       "      <td>0.58</td>\n",
       "      <td>0.42</td>\n",
       "      <td>0.15</td>\n",
       "      <td>0.86</td>\n",
       "      <td>11812.0</td>\n",
       "      <td>8588.0</td>\n",
       "      <td>2958.0</td>\n",
       "      <td>17442.0</td>\n",
       "      <td>8200.0</td>\n",
       "    </tr>\n",
       "    <tr>\n",
       "      <th>2</th>\n",
       "      <td>Ad Dirah</td>\n",
       "      <td>الديرة</td>\n",
       "      <td>24.573161</td>\n",
       "      <td>46.847922</td>\n",
       "      <td>13100.0</td>\n",
       "      <td>0.81</td>\n",
       "      <td>0.19</td>\n",
       "      <td>0.16</td>\n",
       "      <td>0.84</td>\n",
       "      <td>10637.0</td>\n",
       "      <td>2463.0</td>\n",
       "      <td>2070.0</td>\n",
       "      <td>11030.0</td>\n",
       "      <td>2900.0</td>\n",
       "    </tr>\n",
       "    <tr>\n",
       "      <th>3</th>\n",
       "      <td>Ad Diriyah</td>\n",
       "      <td>الدرعية</td>\n",
       "      <td>24.748620</td>\n",
       "      <td>46.535380</td>\n",
       "      <td>11300.0</td>\n",
       "      <td>0.53</td>\n",
       "      <td>0.47</td>\n",
       "      <td>0.82</td>\n",
       "      <td>0.18</td>\n",
       "      <td>5955.0</td>\n",
       "      <td>5345.0</td>\n",
       "      <td>9255.0</td>\n",
       "      <td>2045.0</td>\n",
       "      <td>6900.0</td>\n",
       "    </tr>\n",
       "    <tr>\n",
       "      <th>4</th>\n",
       "      <td>Ad Duraihimiyah</td>\n",
       "      <td>الدريهمية</td>\n",
       "      <td>24.590332</td>\n",
       "      <td>46.695121</td>\n",
       "      <td>13700.0</td>\n",
       "      <td>0.56</td>\n",
       "      <td>0.45</td>\n",
       "      <td>0.59</td>\n",
       "      <td>0.41</td>\n",
       "      <td>7604.0</td>\n",
       "      <td>6097.0</td>\n",
       "      <td>8056.0</td>\n",
       "      <td>5644.0</td>\n",
       "      <td>10000.0</td>\n",
       "    </tr>\n",
       "  </tbody>\n",
       "</table>\n",
       "</div>"
      ],
      "text/plain": [
       "          District_name_EN District_name_AR   latitude  longitude  Population  \\\n",
       "0  Ad Dar Al Baida, Riyadh      دار البيضاء  24.566842  46.790295    168900.0   \n",
       "1               Ad Dhubbat           الضباط  24.679383  46.721847     20400.0   \n",
       "2                 Ad Dirah           الديرة  24.573161  46.847922     13100.0   \n",
       "3               Ad Diriyah          الدرعية  24.748620  46.535380     11300.0   \n",
       "4          Ad Duraihimiyah        الدريهمية  24.590332  46.695121     13700.0   \n",
       "\n",
       "   Males_(%)  Females_(%)  Saudis_(%)  Non_Saudis_(%)    Males  Females  \\\n",
       "0       0.56         0.44        0.84            0.16  93908.0  74992.0   \n",
       "1       0.58         0.42        0.15            0.86  11812.0   8588.0   \n",
       "2       0.81         0.19        0.16            0.84  10637.0   2463.0   \n",
       "3       0.53         0.47        0.82            0.18   5955.0   5345.0   \n",
       "4       0.56         0.45        0.59            0.41   7604.0   6097.0   \n",
       "\n",
       "     Saudis  Non_Saudis  Average_Income  \n",
       "0  142214.0     26686.0          6900.0  \n",
       "1    2958.0     17442.0          8200.0  \n",
       "2    2070.0     11030.0          2900.0  \n",
       "3    9255.0      2045.0          6900.0  \n",
       "4    8056.0      5644.0         10000.0  "
      ]
     },
     "execution_count": 60,
     "metadata": {},
     "output_type": "execute_result"
    }
   ],
   "source": [
    "# drop unneeded columns\n",
    "riyadh_locations = pd.read_excel('riyadh_districts.xlsx')\n",
    "riyadh_locations.head()"
   ]
  },
  {
   "cell_type": "code",
   "execution_count": 61,
   "id": "aff0f2f1",
   "metadata": {
    "scrolled": true
   },
   "outputs": [],
   "source": [
    "# drop unneeded columns\n",
    "riyadh_locations.drop(['Population','Males_(%)', 'Females_(%)', 'Saudis_(%)','Non_Saudis_(%)','Males', 'Females','Saudis','Non_Saudis','Average_Income'], axis=1, inplace=True)"
   ]
  },
  {
   "cell_type": "code",
   "execution_count": 62,
   "id": "6012ad5b",
   "metadata": {},
   "outputs": [],
   "source": [
    "# change the District_name_AR to district to be same column name for our dataframe for merge purpose\n",
    "riyadh_locations=riyadh_locations.rename(columns = {'District_name_AR':'district'})"
   ]
  },
  {
   "cell_type": "code",
   "execution_count": 63,
   "id": "9017f50d",
   "metadata": {},
   "outputs": [
    {
     "data": {
      "text/html": [
       "<div>\n",
       "<style scoped>\n",
       "    .dataframe tbody tr th:only-of-type {\n",
       "        vertical-align: middle;\n",
       "    }\n",
       "\n",
       "    .dataframe tbody tr th {\n",
       "        vertical-align: top;\n",
       "    }\n",
       "\n",
       "    .dataframe thead th {\n",
       "        text-align: right;\n",
       "    }\n",
       "</style>\n",
       "<table border=\"1\" class=\"dataframe\">\n",
       "  <thead>\n",
       "    <tr style=\"text-align: right;\">\n",
       "      <th></th>\n",
       "      <th>District_name_EN</th>\n",
       "      <th>district</th>\n",
       "      <th>latitude</th>\n",
       "      <th>longitude</th>\n",
       "    </tr>\n",
       "  </thead>\n",
       "  <tbody>\n",
       "    <tr>\n",
       "      <th>0</th>\n",
       "      <td>Ad Dar Al Baida, Riyadh</td>\n",
       "      <td>دار البيضاء</td>\n",
       "      <td>24.566842</td>\n",
       "      <td>46.790295</td>\n",
       "    </tr>\n",
       "    <tr>\n",
       "      <th>1</th>\n",
       "      <td>Ad Dhubbat</td>\n",
       "      <td>الضباط</td>\n",
       "      <td>24.679383</td>\n",
       "      <td>46.721847</td>\n",
       "    </tr>\n",
       "    <tr>\n",
       "      <th>2</th>\n",
       "      <td>Ad Dirah</td>\n",
       "      <td>الديرة</td>\n",
       "      <td>24.573161</td>\n",
       "      <td>46.847922</td>\n",
       "    </tr>\n",
       "    <tr>\n",
       "      <th>3</th>\n",
       "      <td>Ad Diriyah</td>\n",
       "      <td>الدرعية</td>\n",
       "      <td>24.748620</td>\n",
       "      <td>46.535380</td>\n",
       "    </tr>\n",
       "    <tr>\n",
       "      <th>4</th>\n",
       "      <td>Ad Duraihimiyah</td>\n",
       "      <td>الدريهمية</td>\n",
       "      <td>24.590332</td>\n",
       "      <td>46.695121</td>\n",
       "    </tr>\n",
       "  </tbody>\n",
       "</table>\n",
       "</div>"
      ],
      "text/plain": [
       "          District_name_EN     district   latitude  longitude\n",
       "0  Ad Dar Al Baida, Riyadh  دار البيضاء  24.566842  46.790295\n",
       "1               Ad Dhubbat       الضباط  24.679383  46.721847\n",
       "2                 Ad Dirah       الديرة  24.573161  46.847922\n",
       "3               Ad Diriyah      الدرعية  24.748620  46.535380\n",
       "4          Ad Duraihimiyah    الدريهمية  24.590332  46.695121"
      ]
     },
     "execution_count": 63,
     "metadata": {},
     "output_type": "execute_result"
    }
   ],
   "source": [
    "# changed\n",
    "riyadh_locations.head()"
   ]
  },
  {
   "cell_type": "markdown",
   "id": "0d1aa662",
   "metadata": {},
   "source": [
    "### Now, we will dividing the districts to 4 parts by making a lists for districts based on direction:\n",
    "* North districts\n",
    "* West districts\n",
    "* East districts\n",
    "* South districts\n",
    "\n",
    "\n",
    "#### extract that rows contains the districts from `df_cleaned` , and merge it with riyadh_locations in new DF as mean values and based on district column.\n"
   ]
  },
  {
   "cell_type": "code",
   "execution_count": 64,
   "id": "5036f157",
   "metadata": {},
   "outputs": [
    {
     "data": {
      "text/html": [
       "<div>\n",
       "<style scoped>\n",
       "    .dataframe tbody tr th:only-of-type {\n",
       "        vertical-align: middle;\n",
       "    }\n",
       "\n",
       "    .dataframe tbody tr th {\n",
       "        vertical-align: top;\n",
       "    }\n",
       "\n",
       "    .dataframe thead th {\n",
       "        text-align: right;\n",
       "    }\n",
       "</style>\n",
       "<table border=\"1\" class=\"dataframe\">\n",
       "  <thead>\n",
       "    <tr style=\"text-align: right;\">\n",
       "      <th></th>\n",
       "      <th>District_name_EN</th>\n",
       "      <th>district</th>\n",
       "      <th>latitude</th>\n",
       "      <th>longitude</th>\n",
       "      <th>home_size</th>\n",
       "      <th>home_price</th>\n",
       "    </tr>\n",
       "  </thead>\n",
       "  <tbody>\n",
       "    <tr>\n",
       "      <th>0</th>\n",
       "      <td>Al Badi'ah</td>\n",
       "      <td>البديعة</td>\n",
       "      <td>24.634622</td>\n",
       "      <td>46.685165</td>\n",
       "      <td>382.526316</td>\n",
       "      <td>1.197237e+06</td>\n",
       "    </tr>\n",
       "    <tr>\n",
       "      <th>1</th>\n",
       "      <td>Al Hazm</td>\n",
       "      <td>الحزم</td>\n",
       "      <td>24.539610</td>\n",
       "      <td>46.645542</td>\n",
       "      <td>295.104839</td>\n",
       "      <td>1.153911e+06</td>\n",
       "    </tr>\n",
       "    <tr>\n",
       "      <th>2</th>\n",
       "      <td>Al Malaz</td>\n",
       "      <td>الملز</td>\n",
       "      <td>24.666453</td>\n",
       "      <td>46.733141</td>\n",
       "      <td>490.666667</td>\n",
       "      <td>1.527778e+06</td>\n",
       "    </tr>\n",
       "    <tr>\n",
       "      <th>3</th>\n",
       "      <td>Al Zahra</td>\n",
       "      <td>الزهرة</td>\n",
       "      <td>24.579737</td>\n",
       "      <td>46.645615</td>\n",
       "      <td>384.100000</td>\n",
       "      <td>1.238000e+06</td>\n",
       "    </tr>\n",
       "    <tr>\n",
       "      <th>4</th>\n",
       "      <td>Ar Rabwah</td>\n",
       "      <td>الربوة</td>\n",
       "      <td>24.700069</td>\n",
       "      <td>46.753763</td>\n",
       "      <td>489.555556</td>\n",
       "      <td>1.988889e+06</td>\n",
       "    </tr>\n",
       "    <tr>\n",
       "      <th>5</th>\n",
       "      <td>As Sulimaniyah</td>\n",
       "      <td>السليمانية</td>\n",
       "      <td>24.697490</td>\n",
       "      <td>46.708080</td>\n",
       "      <td>403.333333</td>\n",
       "      <td>2.064444e+06</td>\n",
       "    </tr>\n",
       "    <tr>\n",
       "      <th>6</th>\n",
       "      <td>Badr</td>\n",
       "      <td>بدر</td>\n",
       "      <td>24.526170</td>\n",
       "      <td>46.724581</td>\n",
       "      <td>311.303887</td>\n",
       "      <td>9.952797e+05</td>\n",
       "    </tr>\n",
       "    <tr>\n",
       "      <th>7</th>\n",
       "      <td>Dirab</td>\n",
       "      <td>ديراب</td>\n",
       "      <td>24.512786</td>\n",
       "      <td>46.617887</td>\n",
       "      <td>325.764706</td>\n",
       "      <td>1.068059e+06</td>\n",
       "    </tr>\n",
       "    <tr>\n",
       "      <th>8</th>\n",
       "      <td>Okaz</td>\n",
       "      <td>عكاظ</td>\n",
       "      <td>24.515849</td>\n",
       "      <td>46.664346</td>\n",
       "      <td>315.889764</td>\n",
       "      <td>1.094666e+06</td>\n",
       "    </tr>\n",
       "    <tr>\n",
       "      <th>9</th>\n",
       "      <td>Rawabi</td>\n",
       "      <td>الروابي</td>\n",
       "      <td>24.696845</td>\n",
       "      <td>46.789128</td>\n",
       "      <td>389.000000</td>\n",
       "      <td>1.752875e+06</td>\n",
       "    </tr>\n",
       "    <tr>\n",
       "      <th>10</th>\n",
       "      <td>Shubra</td>\n",
       "      <td>شبرا</td>\n",
       "      <td>24.577851</td>\n",
       "      <td>46.668191</td>\n",
       "      <td>372.722222</td>\n",
       "      <td>1.133889e+06</td>\n",
       "    </tr>\n",
       "    <tr>\n",
       "      <th>11</th>\n",
       "      <td>Square</td>\n",
       "      <td>المربع</td>\n",
       "      <td>24.663103</td>\n",
       "      <td>46.707359</td>\n",
       "      <td>200.000000</td>\n",
       "      <td>1.900000e+06</td>\n",
       "    </tr>\n",
       "    <tr>\n",
       "      <th>12</th>\n",
       "      <td>Taybah</td>\n",
       "      <td>طيبة</td>\n",
       "      <td>24.543711</td>\n",
       "      <td>46.829248</td>\n",
       "      <td>275.868056</td>\n",
       "      <td>8.734722e+05</td>\n",
       "    </tr>\n",
       "    <tr>\n",
       "      <th>13</th>\n",
       "      <td>Uhud</td>\n",
       "      <td>أحد</td>\n",
       "      <td>24.490836</td>\n",
       "      <td>46.634581</td>\n",
       "      <td>328.300000</td>\n",
       "      <td>1.189000e+06</td>\n",
       "    </tr>\n",
       "    <tr>\n",
       "      <th>14</th>\n",
       "      <td>Ulaishah</td>\n",
       "      <td>عليشة</td>\n",
       "      <td>24.617120</td>\n",
       "      <td>46.679387</td>\n",
       "      <td>450.000000</td>\n",
       "      <td>7.500000e+05</td>\n",
       "    </tr>\n",
       "    <tr>\n",
       "      <th>15</th>\n",
       "      <td>Uraidh</td>\n",
       "      <td>عريض</td>\n",
       "      <td>24.462230</td>\n",
       "      <td>46.767003</td>\n",
       "      <td>325.500000</td>\n",
       "      <td>1.165000e+06</td>\n",
       "    </tr>\n",
       "  </tbody>\n",
       "</table>\n",
       "</div>"
      ],
      "text/plain": [
       "   District_name_EN    district   latitude  longitude   home_size  \\\n",
       "0        Al Badi'ah     البديعة  24.634622  46.685165  382.526316   \n",
       "1           Al Hazm       الحزم  24.539610  46.645542  295.104839   \n",
       "2          Al Malaz       الملز  24.666453  46.733141  490.666667   \n",
       "3          Al Zahra      الزهرة  24.579737  46.645615  384.100000   \n",
       "4         Ar Rabwah      الربوة  24.700069  46.753763  489.555556   \n",
       "5    As Sulimaniyah  السليمانية  24.697490  46.708080  403.333333   \n",
       "6              Badr         بدر  24.526170  46.724581  311.303887   \n",
       "7             Dirab       ديراب  24.512786  46.617887  325.764706   \n",
       "8              Okaz        عكاظ  24.515849  46.664346  315.889764   \n",
       "9            Rawabi     الروابي  24.696845  46.789128  389.000000   \n",
       "10           Shubra        شبرا  24.577851  46.668191  372.722222   \n",
       "11           Square      المربع  24.663103  46.707359  200.000000   \n",
       "12           Taybah        طيبة  24.543711  46.829248  275.868056   \n",
       "13             Uhud         أحد  24.490836  46.634581  328.300000   \n",
       "14         Ulaishah       عليشة  24.617120  46.679387  450.000000   \n",
       "15           Uraidh        عريض  24.462230  46.767003  325.500000   \n",
       "\n",
       "      home_price  \n",
       "0   1.197237e+06  \n",
       "1   1.153911e+06  \n",
       "2   1.527778e+06  \n",
       "3   1.238000e+06  \n",
       "4   1.988889e+06  \n",
       "5   2.064444e+06  \n",
       "6   9.952797e+05  \n",
       "7   1.068059e+06  \n",
       "8   1.094666e+06  \n",
       "9   1.752875e+06  \n",
       "10  1.133889e+06  \n",
       "11  1.900000e+06  \n",
       "12  8.734722e+05  \n",
       "13  1.189000e+06  \n",
       "14  7.500000e+05  \n",
       "15  1.165000e+06  "
      ]
     },
     "execution_count": 64,
     "metadata": {},
     "output_type": "execute_result"
    }
   ],
   "source": [
    "# here, we made a list for the south district in Riyadh\n",
    "\n",
    "south_districts = ['الملز','العزيزية','المربع','السلي','الروابي','الربوة','البديعة','طيبة','الاسكان','عليشة','الزهرة','المروة','الحزم','بدر','الشفا','عريض','عكاظ','أحد','شبرا','ديراب']\n",
    "south = df_cleaned[df_cleaned['district'].str.contains('|'.join(south_districts)) == True]\n",
    "\n",
    "south_dist_avg = pd.merge(riyadh_locations, south.groupby('district').mean(),on='district', how='inner')\n",
    "south_dist_avg"
   ]
  },
  {
   "cell_type": "code",
   "execution_count": 65,
   "id": "055f8267",
   "metadata": {
    "scrolled": true
   },
   "outputs": [
    {
     "data": {
      "text/html": [
       "<div>\n",
       "<style scoped>\n",
       "    .dataframe tbody tr th:only-of-type {\n",
       "        vertical-align: middle;\n",
       "    }\n",
       "\n",
       "    .dataframe tbody tr th {\n",
       "        vertical-align: top;\n",
       "    }\n",
       "\n",
       "    .dataframe thead th {\n",
       "        text-align: right;\n",
       "    }\n",
       "</style>\n",
       "<table border=\"1\" class=\"dataframe\">\n",
       "  <thead>\n",
       "    <tr style=\"text-align: right;\">\n",
       "      <th></th>\n",
       "      <th>District_name_EN</th>\n",
       "      <th>district</th>\n",
       "      <th>latitude</th>\n",
       "      <th>longitude</th>\n",
       "      <th>home_size</th>\n",
       "      <th>home_price</th>\n",
       "    </tr>\n",
       "  </thead>\n",
       "  <tbody>\n",
       "    <tr>\n",
       "      <th>0</th>\n",
       "      <td>Al Hamra</td>\n",
       "      <td>الحمراء</td>\n",
       "      <td>24.776654</td>\n",
       "      <td>46.751945</td>\n",
       "      <td>503.142857</td>\n",
       "      <td>3.035714e+06</td>\n",
       "    </tr>\n",
       "    <tr>\n",
       "      <th>1</th>\n",
       "      <td>Al Khaleej</td>\n",
       "      <td>الخليج</td>\n",
       "      <td>24.778177</td>\n",
       "      <td>46.802836</td>\n",
       "      <td>427.230769</td>\n",
       "      <td>1.863846e+06</td>\n",
       "    </tr>\n",
       "    <tr>\n",
       "      <th>2</th>\n",
       "      <td>Al Munsiyah</td>\n",
       "      <td>المونسية</td>\n",
       "      <td>24.832128</td>\n",
       "      <td>46.767119</td>\n",
       "      <td>336.443182</td>\n",
       "      <td>2.039094e+06</td>\n",
       "    </tr>\n",
       "    <tr>\n",
       "      <th>3</th>\n",
       "      <td>Al Yarmuk</td>\n",
       "      <td>اليرموك</td>\n",
       "      <td>24.809435</td>\n",
       "      <td>46.781743</td>\n",
       "      <td>356.311475</td>\n",
       "      <td>2.043607e+06</td>\n",
       "    </tr>\n",
       "    <tr>\n",
       "      <th>4</th>\n",
       "      <td>An Nahdah</td>\n",
       "      <td>النهضة</td>\n",
       "      <td>24.765098</td>\n",
       "      <td>46.815010</td>\n",
       "      <td>405.166667</td>\n",
       "      <td>1.814167e+06</td>\n",
       "    </tr>\n",
       "    <tr>\n",
       "      <th>5</th>\n",
       "      <td>Ar Rawdah</td>\n",
       "      <td>الروضة</td>\n",
       "      <td>24.735057</td>\n",
       "      <td>46.765943</td>\n",
       "      <td>416.600000</td>\n",
       "      <td>1.610000e+06</td>\n",
       "    </tr>\n",
       "    <tr>\n",
       "      <th>6</th>\n",
       "      <td>Ar Rimal</td>\n",
       "      <td>الرمال</td>\n",
       "      <td>24.869555</td>\n",
       "      <td>46.818360</td>\n",
       "      <td>320.620619</td>\n",
       "      <td>1.515753e+06</td>\n",
       "    </tr>\n",
       "    <tr>\n",
       "      <th>7</th>\n",
       "      <td>Janadriah</td>\n",
       "      <td>الجنادرية</td>\n",
       "      <td>24.820690</td>\n",
       "      <td>46.864522</td>\n",
       "      <td>311.957447</td>\n",
       "      <td>1.350213e+06</td>\n",
       "    </tr>\n",
       "    <tr>\n",
       "      <th>8</th>\n",
       "      <td>Nadheem</td>\n",
       "      <td>النظيم</td>\n",
       "      <td>24.805005</td>\n",
       "      <td>46.894393</td>\n",
       "      <td>325.363636</td>\n",
       "      <td>1.102727e+06</td>\n",
       "    </tr>\n",
       "    <tr>\n",
       "      <th>9</th>\n",
       "      <td>Qadisiyah</td>\n",
       "      <td>القادسية</td>\n",
       "      <td>24.820767</td>\n",
       "      <td>46.823207</td>\n",
       "      <td>351.294872</td>\n",
       "      <td>1.784090e+06</td>\n",
       "    </tr>\n",
       "  </tbody>\n",
       "</table>\n",
       "</div>"
      ],
      "text/plain": [
       "  District_name_EN   district   latitude  longitude   home_size    home_price\n",
       "0         Al Hamra    الحمراء  24.776654  46.751945  503.142857  3.035714e+06\n",
       "1       Al Khaleej     الخليج  24.778177  46.802836  427.230769  1.863846e+06\n",
       "2      Al Munsiyah   المونسية  24.832128  46.767119  336.443182  2.039094e+06\n",
       "3        Al Yarmuk    اليرموك  24.809435  46.781743  356.311475  2.043607e+06\n",
       "4        An Nahdah     النهضة  24.765098  46.815010  405.166667  1.814167e+06\n",
       "5        Ar Rawdah     الروضة  24.735057  46.765943  416.600000  1.610000e+06\n",
       "6         Ar Rimal     الرمال  24.869555  46.818360  320.620619  1.515753e+06\n",
       "7        Janadriah  الجنادرية  24.820690  46.864522  311.957447  1.350213e+06\n",
       "8          Nadheem     النظيم  24.805005  46.894393  325.363636  1.102727e+06\n",
       "9        Qadisiyah   القادسية  24.820767  46.823207  351.294872  1.784090e+06"
      ]
     },
     "execution_count": 65,
     "metadata": {},
     "output_type": "execute_result"
    }
   ],
   "source": [
    "# here, we made a list for the east district in Riyadh\n",
    "\n",
    "east_districts = ['اليرموك','الرمال', 'القادسية', 'اشبيلية', 'النظيم','الندوة','الجنادرية', 'النهضة','الحمراء','الروضة','الخليج','فيصل','المعيزيلة','الجزيرة','المونسية']\n",
    "east = df_cleaned[df_cleaned['district'].str.contains('|'.join(east_districts)) == True]\n",
    "east.groupby('district').mean()\n",
    "\n",
    "east_dist_avg = pd.merge(riyadh_locations, east.groupby('district').mean(),on='district', how='inner')\n",
    "east_dist_avg"
   ]
  },
  {
   "cell_type": "code",
   "execution_count": 66,
   "id": "1a52e1ef",
   "metadata": {},
   "outputs": [
    {
     "data": {
      "text/html": [
       "<div>\n",
       "<style scoped>\n",
       "    .dataframe tbody tr th:only-of-type {\n",
       "        vertical-align: middle;\n",
       "    }\n",
       "\n",
       "    .dataframe tbody tr th {\n",
       "        vertical-align: top;\n",
       "    }\n",
       "\n",
       "    .dataframe thead th {\n",
       "        text-align: right;\n",
       "    }\n",
       "</style>\n",
       "<table border=\"1\" class=\"dataframe\">\n",
       "  <thead>\n",
       "    <tr style=\"text-align: right;\">\n",
       "      <th></th>\n",
       "      <th>District_name_EN</th>\n",
       "      <th>district</th>\n",
       "      <th>latitude</th>\n",
       "      <th>longitude</th>\n",
       "      <th>home_size</th>\n",
       "      <th>home_price</th>\n",
       "    </tr>\n",
       "  </thead>\n",
       "  <tbody>\n",
       "    <tr>\n",
       "      <th>0</th>\n",
       "      <td>Al Khalidiyyah</td>\n",
       "      <td>الخالدية</td>\n",
       "      <td>24.624695</td>\n",
       "      <td>46.753851</td>\n",
       "      <td>520.000000</td>\n",
       "      <td>1.166667e+06</td>\n",
       "    </tr>\n",
       "    <tr>\n",
       "      <th>1</th>\n",
       "      <td>Al Mahdiyah</td>\n",
       "      <td>المهدية</td>\n",
       "      <td>24.650661</td>\n",
       "      <td>46.502247</td>\n",
       "      <td>317.513158</td>\n",
       "      <td>1.768422e+06</td>\n",
       "    </tr>\n",
       "    <tr>\n",
       "      <th>2</th>\n",
       "      <td>Al Mohammadiyyah</td>\n",
       "      <td>المحمدية</td>\n",
       "      <td>24.732801</td>\n",
       "      <td>46.649029</td>\n",
       "      <td>325.000000</td>\n",
       "      <td>3.500000e+06</td>\n",
       "    </tr>\n",
       "    <tr>\n",
       "      <th>3</th>\n",
       "      <td>Al Uraija</td>\n",
       "      <td>العريجاء</td>\n",
       "      <td>24.629573</td>\n",
       "      <td>46.655988</td>\n",
       "      <td>321.500000</td>\n",
       "      <td>1.215000e+06</td>\n",
       "    </tr>\n",
       "    <tr>\n",
       "      <th>4</th>\n",
       "      <td>An Nakheel</td>\n",
       "      <td>النخيل</td>\n",
       "      <td>24.746455</td>\n",
       "      <td>46.637230</td>\n",
       "      <td>325.400000</td>\n",
       "      <td>3.100000e+06</td>\n",
       "    </tr>\n",
       "    <tr>\n",
       "      <th>5</th>\n",
       "      <td>Hittin</td>\n",
       "      <td>حطين</td>\n",
       "      <td>24.762741</td>\n",
       "      <td>46.600873</td>\n",
       "      <td>302.666667</td>\n",
       "      <td>3.350000e+06</td>\n",
       "    </tr>\n",
       "    <tr>\n",
       "      <th>6</th>\n",
       "      <td>Irqah</td>\n",
       "      <td>عرقة</td>\n",
       "      <td>24.691151</td>\n",
       "      <td>46.586998</td>\n",
       "      <td>346.666667</td>\n",
       "      <td>3.300000e+06</td>\n",
       "    </tr>\n",
       "    <tr>\n",
       "      <th>7</th>\n",
       "      <td>Laban</td>\n",
       "      <td>لبن</td>\n",
       "      <td>24.613216</td>\n",
       "      <td>46.577784</td>\n",
       "      <td>330.870588</td>\n",
       "      <td>1.550353e+06</td>\n",
       "    </tr>\n",
       "  </tbody>\n",
       "</table>\n",
       "</div>"
      ],
      "text/plain": [
       "   District_name_EN  district   latitude  longitude   home_size    home_price\n",
       "0    Al Khalidiyyah  الخالدية  24.624695  46.753851  520.000000  1.166667e+06\n",
       "1       Al Mahdiyah   المهدية  24.650661  46.502247  317.513158  1.768422e+06\n",
       "2  Al Mohammadiyyah  المحمدية  24.732801  46.649029  325.000000  3.500000e+06\n",
       "3         Al Uraija  العريجاء  24.629573  46.655988  321.500000  1.215000e+06\n",
       "4        An Nakheel    النخيل  24.746455  46.637230  325.400000  3.100000e+06\n",
       "5            Hittin      حطين  24.762741  46.600873  302.666667  3.350000e+06\n",
       "6             Irqah      عرقة  24.691151  46.586998  346.666667  3.300000e+06\n",
       "7             Laban       لبن  24.613216  46.577784  330.870588  1.550353e+06"
      ]
     },
     "execution_count": 66,
     "metadata": {},
     "output_type": "execute_result"
    }
   ],
   "source": [
    "# here, we made a list for the west district in Riyadh\n",
    "\n",
    "west_districts = ['عرقة','المحمدية', 'النخيل','الخالدية','حطين','العريجاء','المهدية','لبن','طويق']\n",
    "west = df_cleaned[df_cleaned['district'].str.contains('|'.join(west_districts)) == True]\n",
    "west.groupby('district').mean()\n",
    "\n",
    "west_dist_avg = pd.merge(riyadh_locations, west.groupby('district').mean(),on='district', how='inner')\n",
    "west_dist_avg"
   ]
  },
  {
   "cell_type": "code",
   "execution_count": 67,
   "id": "4a694b68",
   "metadata": {},
   "outputs": [
    {
     "data": {
      "text/html": [
       "<div>\n",
       "<style scoped>\n",
       "    .dataframe tbody tr th:only-of-type {\n",
       "        vertical-align: middle;\n",
       "    }\n",
       "\n",
       "    .dataframe tbody tr th {\n",
       "        vertical-align: top;\n",
       "    }\n",
       "\n",
       "    .dataframe thead th {\n",
       "        text-align: right;\n",
       "    }\n",
       "</style>\n",
       "<table border=\"1\" class=\"dataframe\">\n",
       "  <thead>\n",
       "    <tr style=\"text-align: right;\">\n",
       "      <th></th>\n",
       "      <th>District_name_EN</th>\n",
       "      <th>district</th>\n",
       "      <th>latitude</th>\n",
       "      <th>longitude</th>\n",
       "      <th>home_size</th>\n",
       "      <th>home_price</th>\n",
       "    </tr>\n",
       "  </thead>\n",
       "  <tbody>\n",
       "    <tr>\n",
       "      <th>0</th>\n",
       "      <td>Al Aarid</td>\n",
       "      <td>العارض</td>\n",
       "      <td>24.898154</td>\n",
       "      <td>46.600623</td>\n",
       "      <td>320.962500</td>\n",
       "      <td>2.505779e+06</td>\n",
       "    </tr>\n",
       "    <tr>\n",
       "      <th>1</th>\n",
       "      <td>Al Falah</td>\n",
       "      <td>الفلاح</td>\n",
       "      <td>24.798050</td>\n",
       "      <td>46.708355</td>\n",
       "      <td>365.000000</td>\n",
       "      <td>2.500000e+06</td>\n",
       "    </tr>\n",
       "    <tr>\n",
       "      <th>2</th>\n",
       "      <td>Al Ghadir</td>\n",
       "      <td>الغدير</td>\n",
       "      <td>24.772627</td>\n",
       "      <td>46.652865</td>\n",
       "      <td>600.000000</td>\n",
       "      <td>3.550000e+06</td>\n",
       "    </tr>\n",
       "    <tr>\n",
       "      <th>3</th>\n",
       "      <td>Al Malqa</td>\n",
       "      <td>الملقا</td>\n",
       "      <td>24.799829</td>\n",
       "      <td>46.597227</td>\n",
       "      <td>321.593750</td>\n",
       "      <td>3.132812e+06</td>\n",
       "    </tr>\n",
       "    <tr>\n",
       "      <th>4</th>\n",
       "      <td>Al Maseef</td>\n",
       "      <td>المصيف</td>\n",
       "      <td>24.767072</td>\n",
       "      <td>46.680414</td>\n",
       "      <td>265.500000</td>\n",
       "      <td>1.500000e+06</td>\n",
       "    </tr>\n",
       "    <tr>\n",
       "      <th>5</th>\n",
       "      <td>Al Muruj</td>\n",
       "      <td>المروج</td>\n",
       "      <td>24.757634</td>\n",
       "      <td>46.661267</td>\n",
       "      <td>466.666667</td>\n",
       "      <td>2.433333e+06</td>\n",
       "    </tr>\n",
       "    <tr>\n",
       "      <th>6</th>\n",
       "      <td>Al Wadi</td>\n",
       "      <td>الوادي</td>\n",
       "      <td>24.789772</td>\n",
       "      <td>46.690454</td>\n",
       "      <td>428.166667</td>\n",
       "      <td>2.466667e+06</td>\n",
       "    </tr>\n",
       "    <tr>\n",
       "      <th>7</th>\n",
       "      <td>Al Yasmin</td>\n",
       "      <td>الياسمين</td>\n",
       "      <td>24.829554</td>\n",
       "      <td>46.641144</td>\n",
       "      <td>354.638298</td>\n",
       "      <td>3.022872e+06</td>\n",
       "    </tr>\n",
       "    <tr>\n",
       "      <th>8</th>\n",
       "      <td>An Nada</td>\n",
       "      <td>الندى</td>\n",
       "      <td>24.806224</td>\n",
       "      <td>46.681900</td>\n",
       "      <td>319.000000</td>\n",
       "      <td>2.625000e+06</td>\n",
       "    </tr>\n",
       "    <tr>\n",
       "      <th>9</th>\n",
       "      <td>An Nafal</td>\n",
       "      <td>النفل</td>\n",
       "      <td>24.782669</td>\n",
       "      <td>46.673148</td>\n",
       "      <td>398.312500</td>\n",
       "      <td>2.546875e+06</td>\n",
       "    </tr>\n",
       "    <tr>\n",
       "      <th>10</th>\n",
       "      <td>An Narjis</td>\n",
       "      <td>النرجس</td>\n",
       "      <td>24.877773</td>\n",
       "      <td>46.645736</td>\n",
       "      <td>318.549669</td>\n",
       "      <td>2.700149e+06</td>\n",
       "    </tr>\n",
       "    <tr>\n",
       "      <th>11</th>\n",
       "      <td>Ar Rabi</td>\n",
       "      <td>الربيع</td>\n",
       "      <td>24.797832</td>\n",
       "      <td>46.661065</td>\n",
       "      <td>362.000000</td>\n",
       "      <td>2.420000e+06</td>\n",
       "    </tr>\n",
       "    <tr>\n",
       "      <th>12</th>\n",
       "      <td>As Sahafah</td>\n",
       "      <td>الصحافة</td>\n",
       "      <td>24.801021</td>\n",
       "      <td>46.638350</td>\n",
       "      <td>357.437500</td>\n",
       "      <td>2.915625e+06</td>\n",
       "    </tr>\n",
       "    <tr>\n",
       "      <th>13</th>\n",
       "      <td>Kairouan</td>\n",
       "      <td>القيروان</td>\n",
       "      <td>24.877907</td>\n",
       "      <td>46.561604</td>\n",
       "      <td>317.612903</td>\n",
       "      <td>2.713065e+06</td>\n",
       "    </tr>\n",
       "    <tr>\n",
       "      <th>14</th>\n",
       "      <td>NaN</td>\n",
       "      <td>قرطبة</td>\n",
       "      <td>24.815283</td>\n",
       "      <td>46.770904</td>\n",
       "      <td>382.142857</td>\n",
       "      <td>2.840000e+06</td>\n",
       "    </tr>\n",
       "  </tbody>\n",
       "</table>\n",
       "</div>"
      ],
      "text/plain": [
       "   District_name_EN  district   latitude  longitude   home_size    home_price\n",
       "0          Al Aarid    العارض  24.898154  46.600623  320.962500  2.505779e+06\n",
       "1          Al Falah    الفلاح  24.798050  46.708355  365.000000  2.500000e+06\n",
       "2         Al Ghadir    الغدير  24.772627  46.652865  600.000000  3.550000e+06\n",
       "3          Al Malqa    الملقا  24.799829  46.597227  321.593750  3.132812e+06\n",
       "4         Al Maseef    المصيف  24.767072  46.680414  265.500000  1.500000e+06\n",
       "5          Al Muruj    المروج  24.757634  46.661267  466.666667  2.433333e+06\n",
       "6           Al Wadi    الوادي  24.789772  46.690454  428.166667  2.466667e+06\n",
       "7         Al Yasmin  الياسمين  24.829554  46.641144  354.638298  3.022872e+06\n",
       "8           An Nada     الندى  24.806224  46.681900  319.000000  2.625000e+06\n",
       "9          An Nafal     النفل  24.782669  46.673148  398.312500  2.546875e+06\n",
       "10        An Narjis    النرجس  24.877773  46.645736  318.549669  2.700149e+06\n",
       "11          Ar Rabi    الربيع  24.797832  46.661065  362.000000  2.420000e+06\n",
       "12       As Sahafah   الصحافة  24.801021  46.638350  357.437500  2.915625e+06\n",
       "13         Kairouan  القيروان  24.877907  46.561604  317.612903  2.713065e+06\n",
       "14              NaN     قرطبة  24.815283  46.770904  382.142857  2.840000e+06"
      ]
     },
     "execution_count": 67,
     "metadata": {},
     "output_type": "execute_result"
    }
   ],
   "source": [
    "# here, we made a list for the north district in Riyadh\n",
    "north_districts = ['قرطبة','الياسمين', 'النرجس','القيروان','الوادي','العارض','الفلاح','الندى','النفل','الصحافة','الغدير','الملقا','النرجس','المروج','المصيف','الربيع']\n",
    "north = df_cleaned[df_cleaned['district'].str.contains('|'.join(north_districts)) == True]\n",
    "north.groupby('district').mean()\n",
    "\n",
    "\n",
    "north_dist_avg = pd.merge(riyadh_locations, north.groupby('district').mean(), on='district', how='inner')\n",
    "north_dist_avg"
   ]
  },
  {
   "cell_type": "code",
   "execution_count": null,
   "id": "c1d2ba06",
   "metadata": {},
   "outputs": [],
   "source": []
  },
  {
   "cell_type": "code",
   "execution_count": 68,
   "id": "8607eb03",
   "metadata": {
    "scrolled": true
   },
   "outputs": [],
   "source": [
    "# Now, we append all dataframes in one DF, contains district name, Lat&Long, avarege price, avarege size,to visualize it on a Map\n",
    "\n",
    "df_all= pd.concat([south_dist_avg, east_dist_avg, west_dist_avg, north_dist_avg])"
   ]
  },
  {
   "cell_type": "code",
   "execution_count": 69,
   "id": "e48a4346",
   "metadata": {
    "scrolled": true
   },
   "outputs": [
    {
     "data": {
      "text/html": [
       "<div>\n",
       "<style scoped>\n",
       "    .dataframe tbody tr th:only-of-type {\n",
       "        vertical-align: middle;\n",
       "    }\n",
       "\n",
       "    .dataframe tbody tr th {\n",
       "        vertical-align: top;\n",
       "    }\n",
       "\n",
       "    .dataframe thead th {\n",
       "        text-align: right;\n",
       "    }\n",
       "</style>\n",
       "<table border=\"1\" class=\"dataframe\">\n",
       "  <thead>\n",
       "    <tr style=\"text-align: right;\">\n",
       "      <th></th>\n",
       "      <th>District_name_EN</th>\n",
       "      <th>district</th>\n",
       "      <th>latitude</th>\n",
       "      <th>longitude</th>\n",
       "      <th>home_size</th>\n",
       "      <th>home_price</th>\n",
       "    </tr>\n",
       "  </thead>\n",
       "  <tbody>\n",
       "    <tr>\n",
       "      <th>0</th>\n",
       "      <td>Al Badi'ah</td>\n",
       "      <td>البديعة</td>\n",
       "      <td>24.634622</td>\n",
       "      <td>46.685165</td>\n",
       "      <td>382.526316</td>\n",
       "      <td>1.197237e+06</td>\n",
       "    </tr>\n",
       "    <tr>\n",
       "      <th>1</th>\n",
       "      <td>Al Hazm</td>\n",
       "      <td>الحزم</td>\n",
       "      <td>24.539610</td>\n",
       "      <td>46.645542</td>\n",
       "      <td>295.104839</td>\n",
       "      <td>1.153911e+06</td>\n",
       "    </tr>\n",
       "    <tr>\n",
       "      <th>2</th>\n",
       "      <td>Al Malaz</td>\n",
       "      <td>الملز</td>\n",
       "      <td>24.666453</td>\n",
       "      <td>46.733141</td>\n",
       "      <td>490.666667</td>\n",
       "      <td>1.527778e+06</td>\n",
       "    </tr>\n",
       "    <tr>\n",
       "      <th>3</th>\n",
       "      <td>Al Zahra</td>\n",
       "      <td>الزهرة</td>\n",
       "      <td>24.579737</td>\n",
       "      <td>46.645615</td>\n",
       "      <td>384.100000</td>\n",
       "      <td>1.238000e+06</td>\n",
       "    </tr>\n",
       "    <tr>\n",
       "      <th>4</th>\n",
       "      <td>Ar Rabwah</td>\n",
       "      <td>الربوة</td>\n",
       "      <td>24.700069</td>\n",
       "      <td>46.753763</td>\n",
       "      <td>489.555556</td>\n",
       "      <td>1.988889e+06</td>\n",
       "    </tr>\n",
       "    <tr>\n",
       "      <th>5</th>\n",
       "      <td>As Sulimaniyah</td>\n",
       "      <td>السليمانية</td>\n",
       "      <td>24.697490</td>\n",
       "      <td>46.708080</td>\n",
       "      <td>403.333333</td>\n",
       "      <td>2.064444e+06</td>\n",
       "    </tr>\n",
       "    <tr>\n",
       "      <th>6</th>\n",
       "      <td>Badr</td>\n",
       "      <td>بدر</td>\n",
       "      <td>24.526170</td>\n",
       "      <td>46.724581</td>\n",
       "      <td>311.303887</td>\n",
       "      <td>9.952797e+05</td>\n",
       "    </tr>\n",
       "    <tr>\n",
       "      <th>7</th>\n",
       "      <td>Dirab</td>\n",
       "      <td>ديراب</td>\n",
       "      <td>24.512786</td>\n",
       "      <td>46.617887</td>\n",
       "      <td>325.764706</td>\n",
       "      <td>1.068059e+06</td>\n",
       "    </tr>\n",
       "    <tr>\n",
       "      <th>8</th>\n",
       "      <td>Okaz</td>\n",
       "      <td>عكاظ</td>\n",
       "      <td>24.515849</td>\n",
       "      <td>46.664346</td>\n",
       "      <td>315.889764</td>\n",
       "      <td>1.094666e+06</td>\n",
       "    </tr>\n",
       "    <tr>\n",
       "      <th>9</th>\n",
       "      <td>Rawabi</td>\n",
       "      <td>الروابي</td>\n",
       "      <td>24.696845</td>\n",
       "      <td>46.789128</td>\n",
       "      <td>389.000000</td>\n",
       "      <td>1.752875e+06</td>\n",
       "    </tr>\n",
       "    <tr>\n",
       "      <th>10</th>\n",
       "      <td>Shubra</td>\n",
       "      <td>شبرا</td>\n",
       "      <td>24.577851</td>\n",
       "      <td>46.668191</td>\n",
       "      <td>372.722222</td>\n",
       "      <td>1.133889e+06</td>\n",
       "    </tr>\n",
       "    <tr>\n",
       "      <th>11</th>\n",
       "      <td>Square</td>\n",
       "      <td>المربع</td>\n",
       "      <td>24.663103</td>\n",
       "      <td>46.707359</td>\n",
       "      <td>200.000000</td>\n",
       "      <td>1.900000e+06</td>\n",
       "    </tr>\n",
       "    <tr>\n",
       "      <th>12</th>\n",
       "      <td>Taybah</td>\n",
       "      <td>طيبة</td>\n",
       "      <td>24.543711</td>\n",
       "      <td>46.829248</td>\n",
       "      <td>275.868056</td>\n",
       "      <td>8.734722e+05</td>\n",
       "    </tr>\n",
       "    <tr>\n",
       "      <th>13</th>\n",
       "      <td>Uhud</td>\n",
       "      <td>أحد</td>\n",
       "      <td>24.490836</td>\n",
       "      <td>46.634581</td>\n",
       "      <td>328.300000</td>\n",
       "      <td>1.189000e+06</td>\n",
       "    </tr>\n",
       "    <tr>\n",
       "      <th>14</th>\n",
       "      <td>Ulaishah</td>\n",
       "      <td>عليشة</td>\n",
       "      <td>24.617120</td>\n",
       "      <td>46.679387</td>\n",
       "      <td>450.000000</td>\n",
       "      <td>7.500000e+05</td>\n",
       "    </tr>\n",
       "    <tr>\n",
       "      <th>15</th>\n",
       "      <td>Uraidh</td>\n",
       "      <td>عريض</td>\n",
       "      <td>24.462230</td>\n",
       "      <td>46.767003</td>\n",
       "      <td>325.500000</td>\n",
       "      <td>1.165000e+06</td>\n",
       "    </tr>\n",
       "    <tr>\n",
       "      <th>0</th>\n",
       "      <td>Al Hamra</td>\n",
       "      <td>الحمراء</td>\n",
       "      <td>24.776654</td>\n",
       "      <td>46.751945</td>\n",
       "      <td>503.142857</td>\n",
       "      <td>3.035714e+06</td>\n",
       "    </tr>\n",
       "    <tr>\n",
       "      <th>1</th>\n",
       "      <td>Al Khaleej</td>\n",
       "      <td>الخليج</td>\n",
       "      <td>24.778177</td>\n",
       "      <td>46.802836</td>\n",
       "      <td>427.230769</td>\n",
       "      <td>1.863846e+06</td>\n",
       "    </tr>\n",
       "    <tr>\n",
       "      <th>2</th>\n",
       "      <td>Al Munsiyah</td>\n",
       "      <td>المونسية</td>\n",
       "      <td>24.832128</td>\n",
       "      <td>46.767119</td>\n",
       "      <td>336.443182</td>\n",
       "      <td>2.039094e+06</td>\n",
       "    </tr>\n",
       "    <tr>\n",
       "      <th>3</th>\n",
       "      <td>Al Yarmuk</td>\n",
       "      <td>اليرموك</td>\n",
       "      <td>24.809435</td>\n",
       "      <td>46.781743</td>\n",
       "      <td>356.311475</td>\n",
       "      <td>2.043607e+06</td>\n",
       "    </tr>\n",
       "    <tr>\n",
       "      <th>4</th>\n",
       "      <td>An Nahdah</td>\n",
       "      <td>النهضة</td>\n",
       "      <td>24.765098</td>\n",
       "      <td>46.815010</td>\n",
       "      <td>405.166667</td>\n",
       "      <td>1.814167e+06</td>\n",
       "    </tr>\n",
       "    <tr>\n",
       "      <th>5</th>\n",
       "      <td>Ar Rawdah</td>\n",
       "      <td>الروضة</td>\n",
       "      <td>24.735057</td>\n",
       "      <td>46.765943</td>\n",
       "      <td>416.600000</td>\n",
       "      <td>1.610000e+06</td>\n",
       "    </tr>\n",
       "    <tr>\n",
       "      <th>6</th>\n",
       "      <td>Ar Rimal</td>\n",
       "      <td>الرمال</td>\n",
       "      <td>24.869555</td>\n",
       "      <td>46.818360</td>\n",
       "      <td>320.620619</td>\n",
       "      <td>1.515753e+06</td>\n",
       "    </tr>\n",
       "    <tr>\n",
       "      <th>7</th>\n",
       "      <td>Janadriah</td>\n",
       "      <td>الجنادرية</td>\n",
       "      <td>24.820690</td>\n",
       "      <td>46.864522</td>\n",
       "      <td>311.957447</td>\n",
       "      <td>1.350213e+06</td>\n",
       "    </tr>\n",
       "    <tr>\n",
       "      <th>8</th>\n",
       "      <td>Nadheem</td>\n",
       "      <td>النظيم</td>\n",
       "      <td>24.805005</td>\n",
       "      <td>46.894393</td>\n",
       "      <td>325.363636</td>\n",
       "      <td>1.102727e+06</td>\n",
       "    </tr>\n",
       "    <tr>\n",
       "      <th>9</th>\n",
       "      <td>Qadisiyah</td>\n",
       "      <td>القادسية</td>\n",
       "      <td>24.820767</td>\n",
       "      <td>46.823207</td>\n",
       "      <td>351.294872</td>\n",
       "      <td>1.784090e+06</td>\n",
       "    </tr>\n",
       "    <tr>\n",
       "      <th>0</th>\n",
       "      <td>Al Khalidiyyah</td>\n",
       "      <td>الخالدية</td>\n",
       "      <td>24.624695</td>\n",
       "      <td>46.753851</td>\n",
       "      <td>520.000000</td>\n",
       "      <td>1.166667e+06</td>\n",
       "    </tr>\n",
       "    <tr>\n",
       "      <th>1</th>\n",
       "      <td>Al Mahdiyah</td>\n",
       "      <td>المهدية</td>\n",
       "      <td>24.650661</td>\n",
       "      <td>46.502247</td>\n",
       "      <td>317.513158</td>\n",
       "      <td>1.768422e+06</td>\n",
       "    </tr>\n",
       "    <tr>\n",
       "      <th>2</th>\n",
       "      <td>Al Mohammadiyyah</td>\n",
       "      <td>المحمدية</td>\n",
       "      <td>24.732801</td>\n",
       "      <td>46.649029</td>\n",
       "      <td>325.000000</td>\n",
       "      <td>3.500000e+06</td>\n",
       "    </tr>\n",
       "    <tr>\n",
       "      <th>3</th>\n",
       "      <td>Al Uraija</td>\n",
       "      <td>العريجاء</td>\n",
       "      <td>24.629573</td>\n",
       "      <td>46.655988</td>\n",
       "      <td>321.500000</td>\n",
       "      <td>1.215000e+06</td>\n",
       "    </tr>\n",
       "    <tr>\n",
       "      <th>4</th>\n",
       "      <td>An Nakheel</td>\n",
       "      <td>النخيل</td>\n",
       "      <td>24.746455</td>\n",
       "      <td>46.637230</td>\n",
       "      <td>325.400000</td>\n",
       "      <td>3.100000e+06</td>\n",
       "    </tr>\n",
       "    <tr>\n",
       "      <th>5</th>\n",
       "      <td>Hittin</td>\n",
       "      <td>حطين</td>\n",
       "      <td>24.762741</td>\n",
       "      <td>46.600873</td>\n",
       "      <td>302.666667</td>\n",
       "      <td>3.350000e+06</td>\n",
       "    </tr>\n",
       "    <tr>\n",
       "      <th>6</th>\n",
       "      <td>Irqah</td>\n",
       "      <td>عرقة</td>\n",
       "      <td>24.691151</td>\n",
       "      <td>46.586998</td>\n",
       "      <td>346.666667</td>\n",
       "      <td>3.300000e+06</td>\n",
       "    </tr>\n",
       "    <tr>\n",
       "      <th>7</th>\n",
       "      <td>Laban</td>\n",
       "      <td>لبن</td>\n",
       "      <td>24.613216</td>\n",
       "      <td>46.577784</td>\n",
       "      <td>330.870588</td>\n",
       "      <td>1.550353e+06</td>\n",
       "    </tr>\n",
       "    <tr>\n",
       "      <th>0</th>\n",
       "      <td>Al Aarid</td>\n",
       "      <td>العارض</td>\n",
       "      <td>24.898154</td>\n",
       "      <td>46.600623</td>\n",
       "      <td>320.962500</td>\n",
       "      <td>2.505779e+06</td>\n",
       "    </tr>\n",
       "    <tr>\n",
       "      <th>1</th>\n",
       "      <td>Al Falah</td>\n",
       "      <td>الفلاح</td>\n",
       "      <td>24.798050</td>\n",
       "      <td>46.708355</td>\n",
       "      <td>365.000000</td>\n",
       "      <td>2.500000e+06</td>\n",
       "    </tr>\n",
       "    <tr>\n",
       "      <th>2</th>\n",
       "      <td>Al Ghadir</td>\n",
       "      <td>الغدير</td>\n",
       "      <td>24.772627</td>\n",
       "      <td>46.652865</td>\n",
       "      <td>600.000000</td>\n",
       "      <td>3.550000e+06</td>\n",
       "    </tr>\n",
       "    <tr>\n",
       "      <th>3</th>\n",
       "      <td>Al Malqa</td>\n",
       "      <td>الملقا</td>\n",
       "      <td>24.799829</td>\n",
       "      <td>46.597227</td>\n",
       "      <td>321.593750</td>\n",
       "      <td>3.132812e+06</td>\n",
       "    </tr>\n",
       "    <tr>\n",
       "      <th>4</th>\n",
       "      <td>Al Maseef</td>\n",
       "      <td>المصيف</td>\n",
       "      <td>24.767072</td>\n",
       "      <td>46.680414</td>\n",
       "      <td>265.500000</td>\n",
       "      <td>1.500000e+06</td>\n",
       "    </tr>\n",
       "    <tr>\n",
       "      <th>5</th>\n",
       "      <td>Al Muruj</td>\n",
       "      <td>المروج</td>\n",
       "      <td>24.757634</td>\n",
       "      <td>46.661267</td>\n",
       "      <td>466.666667</td>\n",
       "      <td>2.433333e+06</td>\n",
       "    </tr>\n",
       "    <tr>\n",
       "      <th>6</th>\n",
       "      <td>Al Wadi</td>\n",
       "      <td>الوادي</td>\n",
       "      <td>24.789772</td>\n",
       "      <td>46.690454</td>\n",
       "      <td>428.166667</td>\n",
       "      <td>2.466667e+06</td>\n",
       "    </tr>\n",
       "    <tr>\n",
       "      <th>7</th>\n",
       "      <td>Al Yasmin</td>\n",
       "      <td>الياسمين</td>\n",
       "      <td>24.829554</td>\n",
       "      <td>46.641144</td>\n",
       "      <td>354.638298</td>\n",
       "      <td>3.022872e+06</td>\n",
       "    </tr>\n",
       "    <tr>\n",
       "      <th>8</th>\n",
       "      <td>An Nada</td>\n",
       "      <td>الندى</td>\n",
       "      <td>24.806224</td>\n",
       "      <td>46.681900</td>\n",
       "      <td>319.000000</td>\n",
       "      <td>2.625000e+06</td>\n",
       "    </tr>\n",
       "    <tr>\n",
       "      <th>9</th>\n",
       "      <td>An Nafal</td>\n",
       "      <td>النفل</td>\n",
       "      <td>24.782669</td>\n",
       "      <td>46.673148</td>\n",
       "      <td>398.312500</td>\n",
       "      <td>2.546875e+06</td>\n",
       "    </tr>\n",
       "    <tr>\n",
       "      <th>10</th>\n",
       "      <td>An Narjis</td>\n",
       "      <td>النرجس</td>\n",
       "      <td>24.877773</td>\n",
       "      <td>46.645736</td>\n",
       "      <td>318.549669</td>\n",
       "      <td>2.700149e+06</td>\n",
       "    </tr>\n",
       "    <tr>\n",
       "      <th>11</th>\n",
       "      <td>Ar Rabi</td>\n",
       "      <td>الربيع</td>\n",
       "      <td>24.797832</td>\n",
       "      <td>46.661065</td>\n",
       "      <td>362.000000</td>\n",
       "      <td>2.420000e+06</td>\n",
       "    </tr>\n",
       "    <tr>\n",
       "      <th>12</th>\n",
       "      <td>As Sahafah</td>\n",
       "      <td>الصحافة</td>\n",
       "      <td>24.801021</td>\n",
       "      <td>46.638350</td>\n",
       "      <td>357.437500</td>\n",
       "      <td>2.915625e+06</td>\n",
       "    </tr>\n",
       "    <tr>\n",
       "      <th>13</th>\n",
       "      <td>Kairouan</td>\n",
       "      <td>القيروان</td>\n",
       "      <td>24.877907</td>\n",
       "      <td>46.561604</td>\n",
       "      <td>317.612903</td>\n",
       "      <td>2.713065e+06</td>\n",
       "    </tr>\n",
       "    <tr>\n",
       "      <th>14</th>\n",
       "      <td>NaN</td>\n",
       "      <td>قرطبة</td>\n",
       "      <td>24.815283</td>\n",
       "      <td>46.770904</td>\n",
       "      <td>382.142857</td>\n",
       "      <td>2.840000e+06</td>\n",
       "    </tr>\n",
       "  </tbody>\n",
       "</table>\n",
       "</div>"
      ],
      "text/plain": [
       "    District_name_EN    district   latitude  longitude   home_size  \\\n",
       "0         Al Badi'ah     البديعة  24.634622  46.685165  382.526316   \n",
       "1            Al Hazm       الحزم  24.539610  46.645542  295.104839   \n",
       "2           Al Malaz       الملز  24.666453  46.733141  490.666667   \n",
       "3           Al Zahra      الزهرة  24.579737  46.645615  384.100000   \n",
       "4          Ar Rabwah      الربوة  24.700069  46.753763  489.555556   \n",
       "5     As Sulimaniyah  السليمانية  24.697490  46.708080  403.333333   \n",
       "6               Badr         بدر  24.526170  46.724581  311.303887   \n",
       "7              Dirab       ديراب  24.512786  46.617887  325.764706   \n",
       "8               Okaz        عكاظ  24.515849  46.664346  315.889764   \n",
       "9             Rawabi     الروابي  24.696845  46.789128  389.000000   \n",
       "10            Shubra        شبرا  24.577851  46.668191  372.722222   \n",
       "11            Square      المربع  24.663103  46.707359  200.000000   \n",
       "12            Taybah        طيبة  24.543711  46.829248  275.868056   \n",
       "13              Uhud         أحد  24.490836  46.634581  328.300000   \n",
       "14          Ulaishah       عليشة  24.617120  46.679387  450.000000   \n",
       "15            Uraidh        عريض  24.462230  46.767003  325.500000   \n",
       "0           Al Hamra     الحمراء  24.776654  46.751945  503.142857   \n",
       "1         Al Khaleej      الخليج  24.778177  46.802836  427.230769   \n",
       "2        Al Munsiyah    المونسية  24.832128  46.767119  336.443182   \n",
       "3          Al Yarmuk     اليرموك  24.809435  46.781743  356.311475   \n",
       "4          An Nahdah      النهضة  24.765098  46.815010  405.166667   \n",
       "5          Ar Rawdah      الروضة  24.735057  46.765943  416.600000   \n",
       "6           Ar Rimal      الرمال  24.869555  46.818360  320.620619   \n",
       "7          Janadriah   الجنادرية  24.820690  46.864522  311.957447   \n",
       "8            Nadheem      النظيم  24.805005  46.894393  325.363636   \n",
       "9          Qadisiyah    القادسية  24.820767  46.823207  351.294872   \n",
       "0     Al Khalidiyyah    الخالدية  24.624695  46.753851  520.000000   \n",
       "1        Al Mahdiyah     المهدية  24.650661  46.502247  317.513158   \n",
       "2   Al Mohammadiyyah    المحمدية  24.732801  46.649029  325.000000   \n",
       "3          Al Uraija    العريجاء  24.629573  46.655988  321.500000   \n",
       "4         An Nakheel      النخيل  24.746455  46.637230  325.400000   \n",
       "5             Hittin        حطين  24.762741  46.600873  302.666667   \n",
       "6              Irqah        عرقة  24.691151  46.586998  346.666667   \n",
       "7              Laban         لبن  24.613216  46.577784  330.870588   \n",
       "0           Al Aarid      العارض  24.898154  46.600623  320.962500   \n",
       "1           Al Falah      الفلاح  24.798050  46.708355  365.000000   \n",
       "2          Al Ghadir      الغدير  24.772627  46.652865  600.000000   \n",
       "3           Al Malqa      الملقا  24.799829  46.597227  321.593750   \n",
       "4          Al Maseef      المصيف  24.767072  46.680414  265.500000   \n",
       "5           Al Muruj      المروج  24.757634  46.661267  466.666667   \n",
       "6            Al Wadi      الوادي  24.789772  46.690454  428.166667   \n",
       "7          Al Yasmin    الياسمين  24.829554  46.641144  354.638298   \n",
       "8            An Nada       الندى  24.806224  46.681900  319.000000   \n",
       "9           An Nafal       النفل  24.782669  46.673148  398.312500   \n",
       "10         An Narjis      النرجس  24.877773  46.645736  318.549669   \n",
       "11           Ar Rabi      الربيع  24.797832  46.661065  362.000000   \n",
       "12        As Sahafah     الصحافة  24.801021  46.638350  357.437500   \n",
       "13          Kairouan    القيروان  24.877907  46.561604  317.612903   \n",
       "14               NaN       قرطبة  24.815283  46.770904  382.142857   \n",
       "\n",
       "      home_price  \n",
       "0   1.197237e+06  \n",
       "1   1.153911e+06  \n",
       "2   1.527778e+06  \n",
       "3   1.238000e+06  \n",
       "4   1.988889e+06  \n",
       "5   2.064444e+06  \n",
       "6   9.952797e+05  \n",
       "7   1.068059e+06  \n",
       "8   1.094666e+06  \n",
       "9   1.752875e+06  \n",
       "10  1.133889e+06  \n",
       "11  1.900000e+06  \n",
       "12  8.734722e+05  \n",
       "13  1.189000e+06  \n",
       "14  7.500000e+05  \n",
       "15  1.165000e+06  \n",
       "0   3.035714e+06  \n",
       "1   1.863846e+06  \n",
       "2   2.039094e+06  \n",
       "3   2.043607e+06  \n",
       "4   1.814167e+06  \n",
       "5   1.610000e+06  \n",
       "6   1.515753e+06  \n",
       "7   1.350213e+06  \n",
       "8   1.102727e+06  \n",
       "9   1.784090e+06  \n",
       "0   1.166667e+06  \n",
       "1   1.768422e+06  \n",
       "2   3.500000e+06  \n",
       "3   1.215000e+06  \n",
       "4   3.100000e+06  \n",
       "5   3.350000e+06  \n",
       "6   3.300000e+06  \n",
       "7   1.550353e+06  \n",
       "0   2.505779e+06  \n",
       "1   2.500000e+06  \n",
       "2   3.550000e+06  \n",
       "3   3.132812e+06  \n",
       "4   1.500000e+06  \n",
       "5   2.433333e+06  \n",
       "6   2.466667e+06  \n",
       "7   3.022872e+06  \n",
       "8   2.625000e+06  \n",
       "9   2.546875e+06  \n",
       "10  2.700149e+06  \n",
       "11  2.420000e+06  \n",
       "12  2.915625e+06  \n",
       "13  2.713065e+06  \n",
       "14  2.840000e+06  "
      ]
     },
     "execution_count": 69,
     "metadata": {},
     "output_type": "execute_result"
    }
   ],
   "source": [
    "df_all"
   ]
  },
  {
   "cell_type": "code",
   "execution_count": 70,
   "id": "655983a2",
   "metadata": {},
   "outputs": [
    {
     "data": {
      "text/plain": [
       "(49, 6)"
      ]
     },
     "execution_count": 70,
     "metadata": {},
     "output_type": "execute_result"
    }
   ],
   "source": [
    "df_all.shape"
   ]
  },
  {
   "cell_type": "code",
   "execution_count": 71,
   "id": "79d3a071",
   "metadata": {
    "scrolled": false
   },
   "outputs": [
    {
     "data": {
      "text/plain": [
       "array(['البديعة', 'الحزم', 'الملز', 'الزهرة', 'الربوة', 'السليمانية',\n",
       "       'بدر', 'ديراب', 'عكاظ', 'الروابي', 'شبرا', 'المربع', 'طيبة', 'أحد',\n",
       "       'عليشة', 'عريض', 'الحمراء', 'الخليج', 'المونسية', 'اليرموك',\n",
       "       'النهضة', 'الروضة', 'الرمال', 'الجنادرية', 'النظيم', 'القادسية',\n",
       "       'الخالدية', 'المهدية', 'المحمدية', 'العريجاء', 'النخيل', 'حطين',\n",
       "       'عرقة', 'لبن', 'العارض', 'الفلاح', 'الغدير', 'الملقا', 'المصيف',\n",
       "       'المروج', 'الوادي', 'الياسمين', 'الندى', 'النفل', 'النرجس',\n",
       "       'الربيع', 'الصحافة', 'القيروان', 'قرطبة'], dtype=object)"
      ]
     },
     "execution_count": 71,
     "metadata": {},
     "output_type": "execute_result"
    }
   ],
   "source": [
    "df_all['district'].unique()"
   ]
  },
  {
   "cell_type": "code",
   "execution_count": 72,
   "id": "e654c5c4",
   "metadata": {},
   "outputs": [],
   "source": [
    "df_all.to_csv('avg_riyadh_districts.csv')"
   ]
  },
  {
   "cell_type": "code",
   "execution_count": 73,
   "id": "d9992775",
   "metadata": {},
   "outputs": [],
   "source": [
    "df_all.to_excel('avg_riyadh_districts.xlsx')"
   ]
  },
  {
   "cell_type": "code",
   "execution_count": null,
   "id": "d248881e",
   "metadata": {},
   "outputs": [],
   "source": []
  }
 ],
 "metadata": {
  "kernelspec": {
   "display_name": "Python 3",
   "language": "python",
   "name": "python3"
  },
  "language_info": {
   "codemirror_mode": {
    "name": "ipython",
    "version": 3
   },
   "file_extension": ".py",
   "mimetype": "text/x-python",
   "name": "python",
   "nbconvert_exporter": "python",
   "pygments_lexer": "ipython3",
   "version": "3.9.6"
  }
 },
 "nbformat": 4,
 "nbformat_minor": 5
}
